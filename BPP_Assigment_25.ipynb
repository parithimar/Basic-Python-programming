{
  "nbformat": 4,
  "nbformat_minor": 0,
  "metadata": {
    "colab": {
      "name": "BPP_Assigment 25.ipynb",
      "provenance": []
    },
    "kernelspec": {
      "name": "python3",
      "display_name": "Python 3"
    },
    "language_info": {
      "name": "python"
    }
  },
  "cells": [
    {
      "cell_type": "markdown",
      "metadata": {
        "id": "adPlj0hNEopg"
      },
      "source": [
        "##1.Create a function that takes three integer arguments (a, b, c) and returns the amount of integers which are of equal value."
      ]
    },
    {
      "cell_type": "code",
      "metadata": {
        "id": "WoN6gDgUElzB",
        "colab": {
          "base_uri": "https://localhost:8080/"
        },
        "outputId": "c4512507-eeec-4aab-832b-f65eb61351f9"
      },
      "source": [
        "def equal(a,b, c):\n",
        "  if a == b == c:\n",
        "    return 3\n",
        "  elif a == c or a == b or b == c:\n",
        "    return 2\n",
        "  else:\n",
        "    return 0\n",
        "equal(3, 9, 0)"
      ],
      "execution_count": null,
      "outputs": [
        {
          "output_type": "execute_result",
          "data": {
            "text/plain": [
              "0"
            ]
          },
          "metadata": {
            "tags": []
          },
          "execution_count": 3
        }
      ]
    },
    {
      "cell_type": "markdown",
      "metadata": {
        "id": "_V-R36u4Es2j"
      },
      "source": [
        "##2.Write a function that converts a dictionary into a list of keys-values tuples.\n"
      ]
    },
    {
      "cell_type": "code",
      "metadata": {
        "colab": {
          "base_uri": "https://localhost:8080/"
        },
        "id": "u4hld6IbEt9l",
        "outputId": "20d94d02-a2a5-40f0-db0a-3d6dbe5ab780"
      },
      "source": [
        "def dict_to_list(d):\n",
        "  l = []\n",
        "  for i in d.items():\n",
        "    l.append(i)\n",
        "  return l\n",
        "dict_to_list({\n",
        "  \"D\": 1,\n",
        "  \"B\": 2,\n",
        "  \"C\": 3\n",
        "})\n"
      ],
      "execution_count": null,
      "outputs": [
        {
          "output_type": "execute_result",
          "data": {
            "text/plain": [
              "[('D', 1), ('B', 2), ('C', 3)]"
            ]
          },
          "metadata": {
            "tags": []
          },
          "execution_count": 1
        }
      ]
    },
    {
      "cell_type": "markdown",
      "metadata": {
        "id": "D4k0y0iRFC3q"
      },
      "source": [
        "##3.Write a function that creates a dictionary with each (key, value) pair being the (lower case, upper case) versions of a letter, respectively."
      ]
    },
    {
      "cell_type": "code",
      "metadata": {
        "colab": {
          "base_uri": "https://localhost:8080/"
        },
        "id": "vZoRjqAoFF3n",
        "outputId": "1681b0f5-283b-424c-f309-c6d884ed9032"
      },
      "source": [
        "def mapping(l):\n",
        "  d = {}\n",
        "  for i in l:\n",
        "    d[i] = i.upper()\n",
        "  return d\n",
        "mapping([\"a\", \"v\", \"y\", \"z\"])\n"
      ],
      "execution_count": null,
      "outputs": [
        {
          "output_type": "execute_result",
          "data": {
            "text/plain": [
              "{'a': 'A', 'v': 'V', 'y': 'Y', 'z': 'Z'}"
            ]
          },
          "metadata": {
            "tags": []
          },
          "execution_count": 2
        }
      ]
    },
    {
      "cell_type": "markdown",
      "metadata": {
        "id": "7ZQgJUjUFW2Y"
      },
      "source": [
        "##4.Write a function, that replaces all vowels in a string with a specified vowel.\n"
      ]
    },
    {
      "cell_type": "code",
      "metadata": {
        "colab": {
          "base_uri": "https://localhost:8080/",
          "height": 36
        },
        "id": "XZgfu92XFYHq",
        "outputId": "5eb7f797-3c95-499c-bec6-1c7ae0fe7dbf"
      },
      "source": [
        "def vow_replace(st, key):\n",
        "  vow = \"aAeEiIoOuU\"\n",
        "  l = list(st)\n",
        "  for i, v in enumerate(l):\n",
        "    if v in vow:\n",
        "      l[i] = key\n",
        "  return \"\".join(l)\n",
        "vow_replace(\"apples and bananas\", \"u\")"
      ],
      "execution_count": null,
      "outputs": [
        {
          "output_type": "execute_result",
          "data": {
            "application/vnd.google.colaboratory.intrinsic+json": {
              "type": "string"
            },
            "text/plain": [
              "'upplus und bununus'"
            ]
          },
          "metadata": {
            "tags": []
          },
          "execution_count": 5
        }
      ]
    },
    {
      "cell_type": "markdown",
      "metadata": {
        "id": "q1b5oKTYF_E_"
      },
      "source": [
        "##5.Create a function that takes a string as input and capitalizes a letter if its ASCII code is even and returns its lower case version if its ASCII code is odd."
      ]
    },
    {
      "cell_type": "code",
      "metadata": {
        "colab": {
          "base_uri": "https://localhost:8080/",
          "height": 36
        },
        "id": "yEFzV1NLGAd5",
        "outputId": "c1621368-96b3-4144-f28e-a4841da299be"
      },
      "source": [
        "def ascii_capitalize(st):\n",
        "  l = list(st)\n",
        "  for i, v in enumerate(st):\n",
        "    if ord(v) % 2 == 0:\n",
        "      l[i] = v.upper()\n",
        "    else:\n",
        "      l[i] = v.lower()\n",
        "  return \"\".join(l)\n",
        "ascii_capitalize(\"THE LITTLE MERMAID\")"
      ],
      "execution_count": null,
      "outputs": [
        {
          "output_type": "execute_result",
          "data": {
            "application/vnd.google.colaboratory.intrinsic+json": {
              "type": "string"
            },
            "text/plain": [
              "'THe LiTTLe meRmaiD'"
            ]
          },
          "metadata": {
            "tags": []
          },
          "execution_count": 6
        }
      ]
    }
  ]
}