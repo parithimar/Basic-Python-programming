{
  "nbformat": 4,
  "nbformat_minor": 0,
  "metadata": {
    "colab": {
      "name": "BPP_Assignemnt 4.ipynb",
      "provenance": []
    },
    "kernelspec": {
      "name": "python3",
      "display_name": "Python 3"
    },
    "language_info": {
      "name": "python"
    }
  },
  "cells": [
    {
      "cell_type": "markdown",
      "metadata": {
        "id": "LDc-M3hVYtad"
      },
      "source": [
        "##1.Write a Python Program to Find the Factorial of a Number?\n"
      ]
    },
    {
      "cell_type": "code",
      "metadata": {
        "colab": {
          "base_uri": "https://localhost:8080/"
        },
        "id": "K1toc6RCYqVj",
        "outputId": "a3af555d-9f2a-4e0a-d13b-a9acae3f5208"
      },
      "source": [
        "n = int(input(\"Enter a value: \"))\n",
        "f=1\n",
        "for i in range(1,n+1):\n",
        "  f *= i\n",
        "print(\"factorial of {} is {}\".format(n, f))"
      ],
      "execution_count": null,
      "outputs": [
        {
          "output_type": "stream",
          "text": [
            "Enter a value: 6\n",
            "factorial of 6 is 720\n"
          ],
          "name": "stdout"
        }
      ]
    },
    {
      "cell_type": "markdown",
      "metadata": {
        "id": "mQbGf7_DZKVt"
      },
      "source": [
        "##2.Write a Python Program to Display the multiplication Table?\n"
      ]
    },
    {
      "cell_type": "code",
      "metadata": {
        "colab": {
          "base_uri": "https://localhost:8080/"
        },
        "id": "iJf4z-mob7cU",
        "outputId": "b130ce1a-0c6e-431d-95e1-47f933ee19a5"
      },
      "source": [
        "n = int(input(\"Enter a value: \"))\n",
        "for i in range(1,11):\n",
        "  print(\"{} x {} = {}\".format(n, i, n*i))"
      ],
      "execution_count": null,
      "outputs": [
        {
          "output_type": "stream",
          "text": [
            "Enter a value: 17\n",
            "17 x 1 = 17\n",
            "17 x 2 = 34\n",
            "17 x 3 = 51\n",
            "17 x 4 = 68\n",
            "17 x 5 = 85\n",
            "17 x 6 = 102\n",
            "17 x 7 = 119\n",
            "17 x 8 = 136\n",
            "17 x 9 = 153\n",
            "17 x 10 = 170\n"
          ],
          "name": "stdout"
        }
      ]
    },
    {
      "cell_type": "markdown",
      "metadata": {
        "id": "sjYkhWcScbG-"
      },
      "source": [
        "##3.Write a Python Program to Print the Fibonacci sequence?"
      ]
    },
    {
      "cell_type": "code",
      "metadata": {
        "colab": {
          "base_uri": "https://localhost:8080/"
        },
        "id": "KRFWke_1ccil",
        "outputId": "5e1e5b55-af3e-4a73-a45e-1439a5fde10d"
      },
      "source": [
        "n = int(input(\"Enter number of iterations: \"))\n",
        "a = 0\n",
        "b = 1\n",
        "\n",
        "for i in range(n):\n",
        "  print(a)\n",
        "  sum = a + b\n",
        "  a = b\n",
        "  b = sum\n",
        "  "
      ],
      "execution_count": null,
      "outputs": [
        {
          "output_type": "stream",
          "text": [
            "Enter number of iterations: 9\n",
            "0\n",
            "1\n",
            "1\n",
            "2\n",
            "3\n",
            "5\n",
            "8\n",
            "13\n",
            "21\n"
          ],
          "name": "stdout"
        }
      ]
    },
    {
      "cell_type": "markdown",
      "metadata": {
        "id": "ay-9aYJweABd"
      },
      "source": [
        "##4.Write a Python Program to Check Armstrong Number?"
      ]
    },
    {
      "cell_type": "code",
      "metadata": {
        "colab": {
          "base_uri": "https://localhost:8080/"
        },
        "id": "F4pyIhuCeCKW",
        "outputId": "be9d59ef-d0d5-41c5-9e2d-da48b96963ab"
      },
      "source": [
        "num = int(input(\"Enter a number: \"))\n",
        "n = len(str(num))\n",
        "sum = 0\n",
        "temp = num\n",
        "while temp > 0:\n",
        "   digit = temp % 10\n",
        "   sum += digit ** n\n",
        "   temp //= 10\n",
        "\n",
        "if num == sum:\n",
        "   print(\"{} is an armstrong number\".format(num))\n",
        "else:\n",
        "   print(\"{} is not an armstrong number\".format(num))"
      ],
      "execution_count": null,
      "outputs": [
        {
          "output_type": "stream",
          "text": [
            "Enter a number: 153\n",
            "153 is an Armstrong number\n"
          ],
          "name": "stdout"
        }
      ]
    },
    {
      "cell_type": "markdown",
      "metadata": {
        "id": "b0MLbeeIl5Vr"
      },
      "source": [
        "##5.Write a Python Program to Find Armstrong Number in an Interval?\n"
      ]
    },
    {
      "cell_type": "code",
      "metadata": {
        "id": "TFhsYMK3l7t8",
        "colab": {
          "base_uri": "https://localhost:8080/"
        },
        "outputId": "910d8030-62ee-4a4c-91af-999f70300b44"
      },
      "source": [
        "for i in range(300,500):\n",
        "  n = len(str(i))\n",
        "  sum = 0\n",
        "  temp = i\n",
        "  while temp > 0:\n",
        "    digit = temp % 10\n",
        "    sum += digit ** n\n",
        "    temp //= 10\n",
        "\n",
        "  if i == sum:\n",
        "    print(\"{} is an armstrong number\".format(i))\n",
        "  else:\n",
        "    print(\"{} is not an armstrong number\".format(i))"
      ],
      "execution_count": null,
      "outputs": [
        {
          "output_type": "stream",
          "text": [
            "300 is not an armstrong number\n",
            "301 is not an armstrong number\n",
            "302 is not an armstrong number\n",
            "303 is not an armstrong number\n",
            "304 is not an armstrong number\n",
            "305 is not an armstrong number\n",
            "306 is not an armstrong number\n",
            "307 is not an armstrong number\n",
            "308 is not an armstrong number\n",
            "309 is not an armstrong number\n",
            "310 is not an armstrong number\n",
            "311 is not an armstrong number\n",
            "312 is not an armstrong number\n",
            "313 is not an armstrong number\n",
            "314 is not an armstrong number\n",
            "315 is not an armstrong number\n",
            "316 is not an armstrong number\n",
            "317 is not an armstrong number\n",
            "318 is not an armstrong number\n",
            "319 is not an armstrong number\n",
            "320 is not an armstrong number\n",
            "321 is not an armstrong number\n",
            "322 is not an armstrong number\n",
            "323 is not an armstrong number\n",
            "324 is not an armstrong number\n",
            "325 is not an armstrong number\n",
            "326 is not an armstrong number\n",
            "327 is not an armstrong number\n",
            "328 is not an armstrong number\n",
            "329 is not an armstrong number\n",
            "330 is not an armstrong number\n",
            "331 is not an armstrong number\n",
            "332 is not an armstrong number\n",
            "333 is not an armstrong number\n",
            "334 is not an armstrong number\n",
            "335 is not an armstrong number\n",
            "336 is not an armstrong number\n",
            "337 is not an armstrong number\n",
            "338 is not an armstrong number\n",
            "339 is not an armstrong number\n",
            "340 is not an armstrong number\n",
            "341 is not an armstrong number\n",
            "342 is not an armstrong number\n",
            "343 is not an armstrong number\n",
            "344 is not an armstrong number\n",
            "345 is not an armstrong number\n",
            "346 is not an armstrong number\n",
            "347 is not an armstrong number\n",
            "348 is not an armstrong number\n",
            "349 is not an armstrong number\n",
            "350 is not an armstrong number\n",
            "351 is not an armstrong number\n",
            "352 is not an armstrong number\n",
            "353 is not an armstrong number\n",
            "354 is not an armstrong number\n",
            "355 is not an armstrong number\n",
            "356 is not an armstrong number\n",
            "357 is not an armstrong number\n",
            "358 is not an armstrong number\n",
            "359 is not an armstrong number\n",
            "360 is not an armstrong number\n",
            "361 is not an armstrong number\n",
            "362 is not an armstrong number\n",
            "363 is not an armstrong number\n",
            "364 is not an armstrong number\n",
            "365 is not an armstrong number\n",
            "366 is not an armstrong number\n",
            "367 is not an armstrong number\n",
            "368 is not an armstrong number\n",
            "369 is not an armstrong number\n",
            "370 is an armstrong number\n",
            "371 is an armstrong number\n",
            "372 is not an armstrong number\n",
            "373 is not an armstrong number\n",
            "374 is not an armstrong number\n",
            "375 is not an armstrong number\n",
            "376 is not an armstrong number\n",
            "377 is not an armstrong number\n",
            "378 is not an armstrong number\n",
            "379 is not an armstrong number\n",
            "380 is not an armstrong number\n",
            "381 is not an armstrong number\n",
            "382 is not an armstrong number\n",
            "383 is not an armstrong number\n",
            "384 is not an armstrong number\n",
            "385 is not an armstrong number\n",
            "386 is not an armstrong number\n",
            "387 is not an armstrong number\n",
            "388 is not an armstrong number\n",
            "389 is not an armstrong number\n",
            "390 is not an armstrong number\n",
            "391 is not an armstrong number\n",
            "392 is not an armstrong number\n",
            "393 is not an armstrong number\n",
            "394 is not an armstrong number\n",
            "395 is not an armstrong number\n",
            "396 is not an armstrong number\n",
            "397 is not an armstrong number\n",
            "398 is not an armstrong number\n",
            "399 is not an armstrong number\n",
            "400 is not an armstrong number\n",
            "401 is not an armstrong number\n",
            "402 is not an armstrong number\n",
            "403 is not an armstrong number\n",
            "404 is not an armstrong number\n",
            "405 is not an armstrong number\n",
            "406 is not an armstrong number\n",
            "407 is an armstrong number\n",
            "408 is not an armstrong number\n",
            "409 is not an armstrong number\n",
            "410 is not an armstrong number\n",
            "411 is not an armstrong number\n",
            "412 is not an armstrong number\n",
            "413 is not an armstrong number\n",
            "414 is not an armstrong number\n",
            "415 is not an armstrong number\n",
            "416 is not an armstrong number\n",
            "417 is not an armstrong number\n",
            "418 is not an armstrong number\n",
            "419 is not an armstrong number\n",
            "420 is not an armstrong number\n",
            "421 is not an armstrong number\n",
            "422 is not an armstrong number\n",
            "423 is not an armstrong number\n",
            "424 is not an armstrong number\n",
            "425 is not an armstrong number\n",
            "426 is not an armstrong number\n",
            "427 is not an armstrong number\n",
            "428 is not an armstrong number\n",
            "429 is not an armstrong number\n",
            "430 is not an armstrong number\n",
            "431 is not an armstrong number\n",
            "432 is not an armstrong number\n",
            "433 is not an armstrong number\n",
            "434 is not an armstrong number\n",
            "435 is not an armstrong number\n",
            "436 is not an armstrong number\n",
            "437 is not an armstrong number\n",
            "438 is not an armstrong number\n",
            "439 is not an armstrong number\n",
            "440 is not an armstrong number\n",
            "441 is not an armstrong number\n",
            "442 is not an armstrong number\n",
            "443 is not an armstrong number\n",
            "444 is not an armstrong number\n",
            "445 is not an armstrong number\n",
            "446 is not an armstrong number\n",
            "447 is not an armstrong number\n",
            "448 is not an armstrong number\n",
            "449 is not an armstrong number\n",
            "450 is not an armstrong number\n",
            "451 is not an armstrong number\n",
            "452 is not an armstrong number\n",
            "453 is not an armstrong number\n",
            "454 is not an armstrong number\n",
            "455 is not an armstrong number\n",
            "456 is not an armstrong number\n",
            "457 is not an armstrong number\n",
            "458 is not an armstrong number\n",
            "459 is not an armstrong number\n",
            "460 is not an armstrong number\n",
            "461 is not an armstrong number\n",
            "462 is not an armstrong number\n",
            "463 is not an armstrong number\n",
            "464 is not an armstrong number\n",
            "465 is not an armstrong number\n",
            "466 is not an armstrong number\n",
            "467 is not an armstrong number\n",
            "468 is not an armstrong number\n",
            "469 is not an armstrong number\n",
            "470 is not an armstrong number\n",
            "471 is not an armstrong number\n",
            "472 is not an armstrong number\n",
            "473 is not an armstrong number\n",
            "474 is not an armstrong number\n",
            "475 is not an armstrong number\n",
            "476 is not an armstrong number\n",
            "477 is not an armstrong number\n",
            "478 is not an armstrong number\n",
            "479 is not an armstrong number\n",
            "480 is not an armstrong number\n",
            "481 is not an armstrong number\n",
            "482 is not an armstrong number\n",
            "483 is not an armstrong number\n",
            "484 is not an armstrong number\n",
            "485 is not an armstrong number\n",
            "486 is not an armstrong number\n",
            "487 is not an armstrong number\n",
            "488 is not an armstrong number\n",
            "489 is not an armstrong number\n",
            "490 is not an armstrong number\n",
            "491 is not an armstrong number\n",
            "492 is not an armstrong number\n",
            "493 is not an armstrong number\n",
            "494 is not an armstrong number\n",
            "495 is not an armstrong number\n",
            "496 is not an armstrong number\n",
            "497 is not an armstrong number\n",
            "498 is not an armstrong number\n",
            "499 is not an armstrong number\n"
          ],
          "name": "stdout"
        }
      ]
    },
    {
      "cell_type": "markdown",
      "metadata": {
        "id": "9hKmcqQd6iPS"
      },
      "source": [
        "##6.Write a Python Program to Find the Sum of Natural Numbers?"
      ]
    },
    {
      "cell_type": "code",
      "metadata": {
        "colab": {
          "base_uri": "https://localhost:8080/"
        },
        "id": "mMqSrKaU6k14",
        "outputId": "3c8f70c3-9c2e-4291-b9d0-6434be8f608f"
      },
      "source": [
        "n = int(input(\"Enter a value: \"))\n",
        "sum = 0\n",
        "for i in range(n+1):\n",
        "  sum += i\n",
        "print(\"The sum is {}\".format(sum))"
      ],
      "execution_count": null,
      "outputs": [
        {
          "output_type": "stream",
          "text": [
            "Enter a value: 100\n"
          ],
          "name": "stdout"
        }
      ]
    }
  ]
}