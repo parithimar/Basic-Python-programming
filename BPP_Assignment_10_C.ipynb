{
  "nbformat": 4,
  "nbformat_minor": 0,
  "metadata": {
    "colab": {
      "name": "BPP_Assignment 10 C.ipynb",
      "provenance": [],
      "collapsed_sections": []
    },
    "kernelspec": {
      "name": "python3",
      "display_name": "Python 3"
    },
    "language_info": {
      "name": "python"
    }
  },
  "cells": [
    {
      "cell_type": "markdown",
      "metadata": {
        "id": "2lCAyJzNLv0E"
      },
      "source": [
        "##1.Write a Python program to find sum of elements in list?\n"
      ]
    },
    {
      "cell_type": "code",
      "metadata": {
        "colab": {
          "base_uri": "https://localhost:8080/"
        },
        "id": "8Z3VFwzdKvFi",
        "outputId": "c70f13f9-cd46-406d-b407-abdf67090c03"
      },
      "source": [
        "l = [1,2,3,4,5,6,7]\n",
        "sum = 0\n",
        "for i in l:\n",
        "  sum +=i\n",
        "print(\"Sum: \",sum)"
      ],
      "execution_count": null,
      "outputs": [
        {
          "output_type": "stream",
          "text": [
            "Sum:  28\n"
          ],
          "name": "stdout"
        }
      ]
    },
    {
      "cell_type": "markdown",
      "metadata": {
        "id": "buDfi9efL6fZ"
      },
      "source": [
        "##2.Write a Python program to  Multiply all numbers in the list?\n"
      ]
    },
    {
      "cell_type": "code",
      "metadata": {
        "colab": {
          "base_uri": "https://localhost:8080/"
        },
        "id": "2FJoI9uML-a6",
        "outputId": "2669d038-9f3b-45a3-80b5-b1876e5fa959"
      },
      "source": [
        "l = [1,2,3,4,5,6,7]\n",
        "mul = 1\n",
        "for i in l:\n",
        "  mul *= i\n",
        "print(\"Result: \",mul)"
      ],
      "execution_count": null,
      "outputs": [
        {
          "output_type": "stream",
          "text": [
            "Result:  5040\n"
          ],
          "name": "stdout"
        }
      ]
    },
    {
      "cell_type": "markdown",
      "metadata": {
        "id": "io6SXNOFMQeR"
      },
      "source": [
        "##3.Write a Python program to find smallest number in a list?\n"
      ]
    },
    {
      "cell_type": "code",
      "metadata": {
        "colab": {
          "base_uri": "https://localhost:8080/"
        },
        "id": "Vz5gNg7oMSmB",
        "outputId": "909628e8-0baa-4bb7-928b-8e6ca6b0dd41"
      },
      "source": [
        "l = [1,2,3,4,5,6,7,0]\n",
        "small = l[0]\n",
        "for i in l:\n",
        "  if i < small:\n",
        "    small = i\n",
        "print(\"Smallest: \",small)"
      ],
      "execution_count": null,
      "outputs": [
        {
          "output_type": "stream",
          "text": [
            "Smallest:  0\n"
          ],
          "name": "stdout"
        }
      ]
    },
    {
      "cell_type": "markdown",
      "metadata": {
        "id": "gi8xN6nNMylT"
      },
      "source": [
        "##4.Write a Python program to find largest number in a list?\n"
      ]
    },
    {
      "cell_type": "code",
      "metadata": {
        "colab": {
          "base_uri": "https://localhost:8080/"
        },
        "id": "5ngAaJotM2lx",
        "outputId": "990ce126-a596-4277-edb4-970bf1c39121"
      },
      "source": [
        "l = [1,2,3,4,5,6,7,0]\n",
        "large = l[0]\n",
        "for i in l:\n",
        "  if i > large:\n",
        "    large = i\n",
        "print(\"Largest: \",large)"
      ],
      "execution_count": null,
      "outputs": [
        {
          "output_type": "stream",
          "text": [
            "Smallest:  7\n"
          ],
          "name": "stdout"
        }
      ]
    },
    {
      "cell_type": "markdown",
      "metadata": {
        "id": "vikxn5OWM-Fr"
      },
      "source": [
        "##5.Write a Python program to find second largest number in a list?\n"
      ]
    },
    {
      "cell_type": "code",
      "metadata": {
        "colab": {
          "base_uri": "https://localhost:8080/"
        },
        "id": "fPj4yD0wNE5C",
        "outputId": "89252092-9cc8-446b-8dbb-55e35c8e5d37"
      },
      "source": [
        "l = [1,2,3,4,5,6,7,0]\n",
        "l.sort()\n",
        "print(\"2nd largest: \",l[-2])"
      ],
      "execution_count": null,
      "outputs": [
        {
          "output_type": "stream",
          "text": [
            "Smallest:  6\n"
          ],
          "name": "stdout"
        }
      ]
    },
    {
      "cell_type": "markdown",
      "metadata": {
        "id": "zcDm5xLbPmFz"
      },
      "source": [
        "##6.Write a Python program to find N largest elements from a list?\n"
      ]
    },
    {
      "cell_type": "code",
      "metadata": {
        "colab": {
          "base_uri": "https://localhost:8080/"
        },
        "id": "Htq3kZzAPn4o",
        "outputId": "0ec5c83d-5fa8-4ce8-9f69-8e7699874a9b"
      },
      "source": [
        "l = [1,2,3,4,5,6,7,0]\n",
        "n = 2\n",
        "largest = []\n",
        "for i in range(n):\n",
        "  large = l[0]\n",
        "  for j in l:\n",
        "    if j > large:\n",
        "      large = j\n",
        "  l.remove(large)\n",
        "  largest.append(large)\n",
        "print(largest)\n"
      ],
      "execution_count": 6,
      "outputs": [
        {
          "output_type": "stream",
          "text": [
            "[7, 6]\n"
          ],
          "name": "stdout"
        }
      ]
    },
    {
      "cell_type": "markdown",
      "metadata": {
        "id": "SrWjAR_FPoQt"
      },
      "source": [
        "##7.Write a Python program to print even numbers in a list?\n"
      ]
    },
    {
      "cell_type": "code",
      "metadata": {
        "colab": {
          "base_uri": "https://localhost:8080/"
        },
        "id": "ggQsUhbkPqo5",
        "outputId": "467575a1-a786-4af8-f320-51e380a7537c"
      },
      "source": [
        "l = [1,2,3,4,5,6,7,0]\n",
        "for i in l:\n",
        "  if i%2 == 0:\n",
        "    print(i)"
      ],
      "execution_count": null,
      "outputs": [
        {
          "output_type": "stream",
          "text": [
            "2\n",
            "4\n",
            "6\n",
            "0\n"
          ],
          "name": "stdout"
        }
      ]
    },
    {
      "cell_type": "markdown",
      "metadata": {
        "id": "qmtfJXbsQHav"
      },
      "source": [
        "##8.Write a Python program to print odd numbers in a List?"
      ]
    },
    {
      "cell_type": "code",
      "metadata": {
        "colab": {
          "base_uri": "https://localhost:8080/"
        },
        "id": "ilpHvjeHQJtv",
        "outputId": "c777d341-10eb-4c48-d055-1f9490496fae"
      },
      "source": [
        "l = [1,2,3,4,5,6,7,0]\n",
        "for i in l:\n",
        "  if i%2 != 0:\n",
        "    print(i)"
      ],
      "execution_count": null,
      "outputs": [
        {
          "output_type": "stream",
          "text": [
            "1\n",
            "3\n",
            "5\n",
            "7\n"
          ],
          "name": "stdout"
        }
      ]
    },
    {
      "cell_type": "markdown",
      "metadata": {
        "id": "uBp5wYWtQRmP"
      },
      "source": [
        "##9.Write a Python program to Remove empty List from List?\n"
      ]
    },
    {
      "cell_type": "code",
      "metadata": {
        "colab": {
          "base_uri": "https://localhost:8080/"
        },
        "id": "zkHPrj8fQUPf",
        "outputId": "22da7814-0bdb-4854-fa1c-1fbc2d9be934"
      },
      "source": [
        "l = [1,2,[2,3],[],[],[34],[]]\n",
        "i = 0\n",
        "while i < len(l):\n",
        "  if type(l[i]) == list:\n",
        "    if len(l[i]) == 0:\n",
        "      l.remove(l[i])\n",
        "      continue\n",
        "  i += 1\n",
        "print(l)"
      ],
      "execution_count": null,
      "outputs": [
        {
          "output_type": "stream",
          "text": [
            "[1, 2, [2, 3], [34]]\n"
          ],
          "name": "stdout"
        }
      ]
    },
    {
      "cell_type": "markdown",
      "metadata": {
        "id": "NJec36d3XgM-"
      },
      "source": [
        "##10.Write a Python program to Cloning or Copying a list?\n"
      ]
    },
    {
      "cell_type": "code",
      "metadata": {
        "colab": {
          "base_uri": "https://localhost:8080/"
        },
        "id": "gSRg8SLHXh3W",
        "outputId": "0f7a4e50-c1a8-4f86-c157-5d11f451aa59"
      },
      "source": [
        "l1 = [1,2,3,4,5,6,7,0]\n",
        "l2 = l1\n",
        "print(l2)\n"
      ],
      "execution_count": 1,
      "outputs": [
        {
          "output_type": "stream",
          "text": [
            "[1, 2, 3, 4, 5, 6, 7, 0]\n"
          ],
          "name": "stdout"
        }
      ]
    },
    {
      "cell_type": "markdown",
      "metadata": {
        "id": "u9n9nugrYowe"
      },
      "source": [
        "##11.Write a Python program to Count occurrences of an element in a list?\n"
      ]
    },
    {
      "cell_type": "code",
      "metadata": {
        "colab": {
          "base_uri": "https://localhost:8080/"
        },
        "id": "vcyTMssAYsOk",
        "outputId": "d8b45942-faa2-477b-b7fb-76a95d72dfbb"
      },
      "source": [
        "l1 = [1,2,3,4,5,6,7,5,4,3,6,0]\n",
        "a = {}\n",
        "for i in l1:\n",
        "  if i in a.keys():\n",
        "    a[i] = a[i] + 1\n",
        "  else:\n",
        "    a[i] = 1\n",
        "\n",
        "print(a)"
      ],
      "execution_count": null,
      "outputs": [
        {
          "output_type": "stream",
          "text": [
            "{1: 1, 2: 1, 3: 2, 4: 2, 5: 2, 6: 2, 7: 1, 0: 1}\n"
          ],
          "name": "stdout"
        }
      ]
    }
  ]
}