{
  "nbformat": 4,
  "nbformat_minor": 0,
  "metadata": {
    "colab": {
      "name": "BPP_Assignment 11.ipynb",
      "provenance": []
    },
    "kernelspec": {
      "name": "python3",
      "display_name": "Python 3"
    },
    "language_info": {
      "name": "python"
    }
  },
  "cells": [
    {
      "cell_type": "markdown",
      "metadata": {
        "id": "MeB5DFUEc_wF"
      },
      "source": [
        "##1.Write a Python program to find words which are greater than given length k?\n"
      ]
    },
    {
      "cell_type": "code",
      "metadata": {
        "colab": {
          "base_uri": "https://localhost:8080/"
        },
        "id": "82WOKLpbc402",
        "outputId": "5b010a6e-a6a5-4a02-993b-0de6ee70413b"
      },
      "source": [
        "length = 3\n",
        "st = []\n",
        "inp = \"Hi, i'm a student of iNeuron\"\n",
        "inp = inp.split()\n",
        "for i in inp:\n",
        "  \n",
        "  if len(i) > length:\n",
        "    \n",
        "    st.append(i)\n",
        "print(\"Words greater then length \",length,\" are \",st)"
      ],
      "execution_count": null,
      "outputs": [
        {
          "output_type": "stream",
          "text": [
            "Words greater then length  3  are  ['student', 'iNeuron']\n"
          ],
          "name": "stdout"
        }
      ]
    },
    {
      "cell_type": "markdown",
      "metadata": {
        "id": "l33n5z04eOXD"
      },
      "source": [
        "##2.Write a Python program for removing i-th character from a string?"
      ]
    },
    {
      "cell_type": "code",
      "metadata": {
        "colab": {
          "base_uri": "https://localhost:8080/"
        },
        "id": "hSnO1wB5ePny",
        "outputId": "a0cfc6ca-1eb6-476e-a2f0-eae98ce19b47"
      },
      "source": [
        "inp = \"Hi, i'm a student of iNeuron\"\n",
        "ip = int(input(\"Enter an index: \"))\n",
        "op = \"\"\n",
        "if ip > len(inp):\n",
        "  print(\"Index out of range\")\n",
        "else:\n",
        "  for i in range(len(inp)):\n",
        "    if i == ip:\n",
        "      continue\n",
        "    op += inp[i]\n",
        "print(op)"
      ],
      "execution_count": null,
      "outputs": [
        {
          "output_type": "stream",
          "text": [
            "Enter an index: 6\n",
            "Hi, i' a student of iNeuron\n"
          ],
          "name": "stdout"
        }
      ]
    },
    {
      "cell_type": "markdown",
      "metadata": {
        "id": "BZz96qz6hVjx"
      },
      "source": [
        "##3.Write a Python program to split and join a string?\n"
      ]
    },
    {
      "cell_type": "code",
      "metadata": {
        "colab": {
          "base_uri": "https://localhost:8080/"
        },
        "id": "T9_xQHQ1hXUh",
        "outputId": "fcaeb8b8-5ee9-4473-c6b9-4694e2c92974"
      },
      "source": [
        "inp = \"Hi, i'm a student of iNeuron\"\n",
        "inp = inp.split()\n",
        "i = \" \".join(inp)\n",
        "print(i)"
      ],
      "execution_count": null,
      "outputs": [
        {
          "output_type": "stream",
          "text": [
            "Hi, i'm a student of iNeuron\n"
          ],
          "name": "stdout"
        }
      ]
    },
    {
      "cell_type": "markdown",
      "metadata": {
        "id": "M0y9tGMyh292"
      },
      "source": [
        "##4.Write a Python to check if a given string is binary string or not?\n"
      ]
    },
    {
      "cell_type": "code",
      "metadata": {
        "colab": {
          "base_uri": "https://localhost:8080/"
        },
        "id": "xPuHnIArh4fL",
        "outputId": "478ee453-2da4-4e7a-b324-90438166d668"
      },
      "source": [
        "st = \"10102\"\n",
        "a = set(st)\n",
        "if a == {'0','1'} or a == {'0'} or a == {'1'}:\n",
        "  print(\"String is binary\")\n",
        "else:\n",
        "  print(\"Strign is not binary\")"
      ],
      "execution_count": null,
      "outputs": [
        {
          "output_type": "stream",
          "text": [
            "Strign is not binary\n"
          ],
          "name": "stdout"
        }
      ]
    },
    {
      "cell_type": "markdown",
      "metadata": {
        "id": "kANOWxjGiczi"
      },
      "source": [
        "##5.Write a Python program to find uncommon words from two Strings?\n"
      ]
    },
    {
      "cell_type": "code",
      "metadata": {
        "colab": {
          "base_uri": "https://localhost:8080/"
        },
        "id": "V7_TMlD8id-M",
        "outputId": "ad8181e0-ec1e-46e1-9c68-b9a20bf65bfb"
      },
      "source": [
        "a = \"Hi, i'm a student of iNeuron\"\n",
        "b = \"Hello, i'm a student of iNeuron\"\n",
        "a = a.split()\n",
        "b = b.split()\n",
        "c = a + b\n",
        "count = {}\n",
        "for i in c:\n",
        "  if i in count.keys():\n",
        "    count[i] = count[i] + 1\n",
        "  else:\n",
        "    count[i] = 1\n",
        "words = [i for i in count.keys() if count[i] == 1]\n",
        "print(words) "
      ],
      "execution_count": null,
      "outputs": [
        {
          "output_type": "stream",
          "text": [
            "['Hi,', 'Hello,']\n"
          ],
          "name": "stdout"
        }
      ]
    },
    {
      "cell_type": "markdown",
      "metadata": {
        "id": "NHqITWcRk26k"
      },
      "source": [
        "##6.Write a Python to find all duplicate characters in string?\n"
      ]
    },
    {
      "cell_type": "code",
      "metadata": {
        "colab": {
          "base_uri": "https://localhost:8080/"
        },
        "id": "4iL1HHFEk5R2",
        "outputId": "bbf1800a-a282-47a0-f0c5-62a113f1aa1e"
      },
      "source": [
        "a = \"Hi, i'm a student of iNeuron\"\n",
        "c = {}\n",
        "for i in a:\n",
        "  if i in c.keys():\n",
        "    c[i] += c[i] + 1\n",
        "  else:\n",
        "    c[i] = 1\n",
        "chars = [i for i in c.keys() if c[i] > 1]\n",
        "print(chars)"
      ],
      "execution_count": null,
      "outputs": [
        {
          "output_type": "stream",
          "text": [
            "['i', ' ', 't', 'u', 'e', 'n', 'o']\n"
          ],
          "name": "stdout"
        }
      ]
    },
    {
      "cell_type": "markdown",
      "metadata": {
        "id": "GhqN3zGqmZ7a"
      },
      "source": [
        "##7.Write a Python Program to check if a string contains any special character?\n"
      ]
    },
    {
      "cell_type": "code",
      "metadata": {
        "colab": {
          "base_uri": "https://localhost:8080/"
        },
        "id": "0DRaAo_8mbbr",
        "outputId": "655a684d-9e3f-4ac3-ecca-17447971fce0"
      },
      "source": [
        "sc = '[@_!#$%^&*()<>?/\\|}{~:]'\n",
        "a = \"Hi, i'm @ student of iNeuron\"\n",
        "flag = False\n",
        "for i in a:\n",
        "  if i in sc:\n",
        "    flag = True\n",
        "    break\n",
        "if flag:\n",
        "  print(\"String has special chaacters\")\n",
        "else:\n",
        "  print(\"String doesn't have special characters\")"
      ],
      "execution_count": null,
      "outputs": [
        {
          "output_type": "stream",
          "text": [
            "String has special chaacters\n"
          ],
          "name": "stdout"
        }
      ]
    }
  ]
}