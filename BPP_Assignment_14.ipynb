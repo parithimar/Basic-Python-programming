{
  "nbformat": 4,
  "nbformat_minor": 0,
  "metadata": {
    "colab": {
      "name": "BPP_Assignment 14.ipynb",
      "provenance": []
    },
    "kernelspec": {
      "name": "python3",
      "display_name": "Python 3"
    },
    "language_info": {
      "name": "python"
    }
  },
  "cells": [
    {
      "cell_type": "markdown",
      "metadata": {
        "id": "os6MXwSnowhj"
      },
      "source": [
        "##1.Define a class with a generator which can iterate the numbers, which are divisible by 7, between a given range 0 and n.\n"
      ]
    },
    {
      "cell_type": "code",
      "metadata": {
        "id": "NqPjUcxgouFf",
        "colab": {
          "base_uri": "https://localhost:8080/"
        },
        "outputId": "a06fe76e-5e1b-45a9-c5c4-639e751a508b"
      },
      "source": [
        "class Generator:\n",
        "  def __init__(self, n):\n",
        "    self.n = n\n",
        "  def iterate(self):\n",
        "    i = 0\n",
        "    for i in range(self.n):\n",
        "      if i % 7 == 0:\n",
        "        yield i\n",
        "\n",
        "obj = Generator(20)\n",
        "for i in obj.iterate():\n",
        "  print(i)"
      ],
      "execution_count": 5,
      "outputs": [
        {
          "output_type": "stream",
          "text": [
            "0\n",
            "7\n",
            "14\n"
          ],
          "name": "stdout"
        }
      ]
    },
    {
      "cell_type": "markdown",
      "metadata": {
        "id": "yQq4x8I0o0wd"
      },
      "source": [
        "##2.Write a program to compute the frequency of the words from the input. The output should output after sorting the key alphanumerically."
      ]
    },
    {
      "cell_type": "code",
      "metadata": {
        "colab": {
          "base_uri": "https://localhost:8080/"
        },
        "id": "CFfsVIPMo4AG",
        "outputId": "b7bbb85b-063c-4cbb-95c1-e890798043a1"
      },
      "source": [
        "st = \"New to Python or choosing between Python 2 and Python 3? Read Python 2 or Python 3.\"\n",
        "st = st.split()\n",
        "dc = {}\n",
        "for i in st:\n",
        "  if i in dc.keys():\n",
        "    dc[i] +=  1\n",
        "  else:\n",
        "    dc[i] = 1\n",
        "for i in sorted(dc):\n",
        "  print(i,\" : \",dc[i])"
      ],
      "execution_count": null,
      "outputs": [
        {
          "output_type": "stream",
          "text": [
            "2  :  2\n",
            "3.  :  1\n",
            "3?  :  1\n",
            "New  :  1\n",
            "Python  :  5\n",
            "Read  :  1\n",
            "and  :  1\n",
            "between  :  1\n",
            "choosing  :  1\n",
            "or  :  2\n",
            "to  :  1\n"
          ],
          "name": "stdout"
        }
      ]
    },
    {
      "cell_type": "markdown",
      "metadata": {
        "id": "3JYSfAHpqCc1"
      },
      "source": [
        "##3.Define a class Person and its two child classes: Male and Female. All classes have a method \"getGender\" which can print \"Male\" for Male class and \"Female\" for Female class.\n"
      ]
    },
    {
      "cell_type": "code",
      "metadata": {
        "colab": {
          "base_uri": "https://localhost:8080/"
        },
        "id": "HQKasfDqqEHw",
        "outputId": "8c02667d-85f2-46f8-cb10-e17738e262ab"
      },
      "source": [
        "class Person:\n",
        "  def getGender(self):\n",
        "    return \"Unknown\"\n",
        "class Male(Person):\n",
        "  def getGender(self):\n",
        "    return \"Male\"\n",
        "class Female(Person):\n",
        "  def getGender(self):\n",
        "    return \"Female\"\n",
        "male = Male()\n",
        "female = Female()\n",
        "print(male.getGender())\n",
        "print(female.getGender())"
      ],
      "execution_count": null,
      "outputs": [
        {
          "output_type": "stream",
          "text": [
            "Male\n",
            "Female\n"
          ],
          "name": "stdout"
        }
      ]
    },
    {
      "cell_type": "markdown",
      "metadata": {
        "id": "JS-UOxqGrlmR"
      },
      "source": [
        "##4.Please write a program to generate all sentences where subject is in [\"I\", \"You\"] and verb is in [\"Play\", \"Love\"] and the object is in [\"Hockey\",\"Football\"]."
      ]
    },
    {
      "cell_type": "code",
      "metadata": {
        "colab": {
          "base_uri": "https://localhost:8080/"
        },
        "id": "D-7ITGqdrm5c",
        "outputId": "608b8156-ef14-477c-cf33-ff032713ab14"
      },
      "source": [
        "subjects=[\"I\", \"You\"]\n",
        "verbs=[\"Play\", \"Love\"]\n",
        "objects=[\"Hockey\",\"Football\"]\n",
        "\n",
        "for i in subjects:\n",
        "  for j in verbs:\n",
        "    for k in objects:\n",
        "      print(\"{} {} {}\".format(i,j,k))"
      ],
      "execution_count": null,
      "outputs": [
        {
          "output_type": "stream",
          "text": [
            "I Play Hockey\n",
            "I Play Football\n",
            "I Love Hockey\n",
            "I Love Football\n",
            "You Play Hockey\n",
            "You Play Football\n",
            "You Love Hockey\n",
            "You Love Football\n"
          ],
          "name": "stdout"
        }
      ]
    },
    {
      "cell_type": "markdown",
      "metadata": {
        "id": "g_AGr_jfr6ba"
      },
      "source": [
        "##5.Please write a program to compress and decompress the string \"hello world!hello world!hello world!hello world!\".\n"
      ]
    },
    {
      "cell_type": "code",
      "metadata": {
        "id": "od1s_qG8r74r",
        "colab": {
          "base_uri": "https://localhost:8080/"
        },
        "outputId": "0eda3f12-9238-4472-c5ed-774f7d31d664"
      },
      "source": [
        "import zlib\n",
        "s = 'hello world!hello world!hello world!hello world!'\n",
        "b = bytes(s, 'utf-8')\n",
        "c = zlib.compress(b)\n",
        "d = zlib.decompress(c)\n",
        "print(c)\n",
        "print(d)"
      ],
      "execution_count": 4,
      "outputs": [
        {
          "output_type": "stream",
          "text": [
            "b'x\\x9c\\xcbH\\xcd\\xc9\\xc9W(\\xcf/\\xcaIQ\\xcc \\x82\\r\\x00\\xbd[\\x11\\xf5'\n",
            "b'hello world!hello world!hello world!hello world!'\n"
          ],
          "name": "stdout"
        }
      ]
    },
    {
      "cell_type": "markdown",
      "metadata": {
        "id": "DaRpMuRQsCuw"
      },
      "source": [
        "##6.Please write a binary search function which searches an item in a sorted list. The function should return the index of element to be searched in the list.\n"
      ]
    },
    {
      "cell_type": "code",
      "metadata": {
        "colab": {
          "base_uri": "https://localhost:8080/"
        },
        "id": "_loc-vVxsD5m",
        "outputId": "3c8f74d7-54d2-4793-874a-b0094b13d47c"
      },
      "source": [
        "l = [22,23,34,37,45,56,57]\n",
        "def binary_search(l,st, ed, key):\n",
        "  while True:\n",
        "    if ed >= st:\n",
        "      mid = (st + ed)//2\n",
        "      if l[mid] == key:\n",
        "        return mid\n",
        "      elif l[mid] > key:\n",
        "        ed = mid - 1\n",
        "      else:\n",
        "        st = mid + 1\n",
        "\n",
        "print(binary_search(l,0,len(l)-1,23))\n"
      ],
      "execution_count": null,
      "outputs": [
        {
          "output_type": "stream",
          "text": [
            "1\n"
          ],
          "name": "stdout"
        }
      ]
    }
  ]
}