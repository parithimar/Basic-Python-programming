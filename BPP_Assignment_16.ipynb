{
  "nbformat": 4,
  "nbformat_minor": 0,
  "metadata": {
    "colab": {
      "name": "BPP_Assignment 16.ipynb",
      "provenance": []
    },
    "kernelspec": {
      "name": "python3",
      "display_name": "Python 3"
    },
    "language_info": {
      "name": "python"
    }
  },
  "cells": [
    {
      "cell_type": "markdown",
      "metadata": {
        "id": "N4bL0LcuR34H"
      },
      "source": [
        "##1. Write a function that stutters a word as if someone is struggling to read it. The first two letters are repeated twice with an ellipsis ... and space after each, and then the word is pronounced with a question mark ?.\n"
      ]
    },
    {
      "cell_type": "code",
      "metadata": {
        "colab": {
          "base_uri": "https://localhost:8080/",
          "height": 36
        },
        "id": "B71NGEYUN_Po",
        "outputId": "80fa32e9-204f-444f-be66-fe225de12d99"
      },
      "source": [
        "def stutter(inp):\n",
        "  if len(inp) > 2:\n",
        "    a = inp[:2]\n",
        "    \n",
        "  else:\n",
        "    a = inp[0]\n",
        "\n",
        "  op = \"\"\n",
        "  for i in range(2):\n",
        "    op += a+'...'\n",
        "  op+=inp + \"?\"\n",
        "  return op\n",
        "stutter(\"industry\") "
      ],
      "execution_count": null,
      "outputs": [
        {
          "output_type": "execute_result",
          "data": {
            "application/vnd.google.colaboratory.intrinsic+json": {
              "type": "string"
            },
            "text/plain": [
              "'in...in...industry?'"
            ]
          },
          "metadata": {
            "tags": []
          },
          "execution_count": 7
        }
      ]
    },
    {
      "cell_type": "markdown",
      "metadata": {
        "id": "JJC9MsAvcqL6"
      },
      "source": [
        "##2.Create a function that takes an angle in radians and returns the corresponding angle in degrees rounded to one decimal place."
      ]
    },
    {
      "cell_type": "code",
      "metadata": {
        "colab": {
          "base_uri": "https://localhost:8080/"
        },
        "id": "QAPTCr_3ddt-",
        "outputId": "828d2ba6-7cf8-4183-c40b-c8898867a9c9"
      },
      "source": [
        "import numpy as np\n",
        "\n",
        "def convert(rad):\n",
        "  deg = rad * (180/np.pi)\n",
        "  return np.round(deg,1)\n",
        "convert(20)"
      ],
      "execution_count": null,
      "outputs": [
        {
          "output_type": "execute_result",
          "data": {
            "text/plain": [
              "1145.9"
            ]
          },
          "metadata": {
            "tags": []
          },
          "execution_count": 10
        }
      ]
    },
    {
      "cell_type": "markdown",
      "metadata": {
        "id": "dXgGi9hAjxB9"
      },
      "source": [
        "##3.In this challenge, establish if a given integer num is a Curzon number. If 1 plus 2 elevated to num is exactly divisible by 1 plus 2 multiplied by num, then num is a Curzon number.\n",
        "##Given a non-negative integer num, implement a function that returns True if num is a Curzon number, or False otherwise.\n"
      ]
    },
    {
      "cell_type": "code",
      "metadata": {
        "colab": {
          "base_uri": "https://localhost:8080/"
        },
        "id": "cC2IyoLuj2uj",
        "outputId": "765e6012-013e-424e-b516-2f63be5735fc"
      },
      "source": [
        "def isCurzon(num):\n",
        "  a = 2 ** num + 1\n",
        "  b = 2 * num + 1\n",
        "  if a % b == 0:\n",
        "    return True\n",
        "  else:\n",
        "    return False\n",
        "isCurzon(10)"
      ],
      "execution_count": null,
      "outputs": [
        {
          "output_type": "execute_result",
          "data": {
            "text/plain": [
              "False"
            ]
          },
          "metadata": {
            "tags": []
          },
          "execution_count": 16
        }
      ]
    },
    {
      "cell_type": "markdown",
      "metadata": {
        "id": "zFjxmatckfdz"
      },
      "source": [
        "##4.Given the side length x find the area of a hexagon.\n"
      ]
    },
    {
      "cell_type": "code",
      "metadata": {
        "colab": {
          "base_uri": "https://localhost:8080/"
        },
        "id": "1Yuy3SAIki_y",
        "outputId": "70cba5bd-3b96-4db4-bf73-dc148d5a58ee"
      },
      "source": [
        "import math\n",
        "import numpy as np\n",
        "\n",
        "def areaHexagon(x):\n",
        "  area = (3 * math.sqrt(3) * math.pow(x,2)) / 2\n",
        "  return np.round(area,1)\n",
        "areaHexagon(2)"
      ],
      "execution_count": null,
      "outputs": [
        {
          "output_type": "execute_result",
          "data": {
            "text/plain": [
              "10.4"
            ]
          },
          "metadata": {
            "tags": []
          },
          "execution_count": 19
        }
      ]
    },
    {
      "cell_type": "markdown",
      "metadata": {
        "id": "66Qyua27qsx8"
      },
      "source": [
        "##5.Create a function that returns a base-2 (binary) representation of a base-10 (decimal) string number. To convert is simple: ((2) means base-2 and (10) means base-10) 010101001(2) = 1 + 8 + 32 + 128.\n"
      ]
    },
    {
      "cell_type": "code",
      "metadata": {
        "colab": {
          "base_uri": "https://localhost:8080/"
        },
        "id": "W1ZHxZSgquQQ",
        "outputId": "38bdd2e2-ee6d-4785-de0f-6b8fa12af303"
      },
      "source": [
        "def binary(num):\n",
        "  l = []\n",
        "  while num != 0:\n",
        "    a = num % 2\n",
        "    num = num // 2\n",
        "    l.append(a)\n",
        "  \n",
        "  return l[::-1]\n",
        "binary(154)"
      ],
      "execution_count": null,
      "outputs": [
        {
          "output_type": "execute_result",
          "data": {
            "text/plain": [
              "[1, 0, 0, 1, 1, 0, 1, 0]"
            ]
          },
          "metadata": {
            "tags": []
          },
          "execution_count": 30
        }
      ]
    },
    {
      "cell_type": "code",
      "metadata": {
        "colab": {
          "base_uri": "https://localhost:8080/",
          "height": 36
        },
        "id": "OACWIRVlttrs",
        "outputId": "6830e553-f21a-41de-a6df-9994f801283e"
      },
      "source": [
        "bin(154)"
      ],
      "execution_count": null,
      "outputs": [
        {
          "output_type": "execute_result",
          "data": {
            "application/vnd.google.colaboratory.intrinsic+json": {
              "type": "string"
            },
            "text/plain": [
              "'0b10011010'"
            ]
          },
          "metadata": {
            "tags": []
          },
          "execution_count": 29
        }
      ]
    }
  ]
}