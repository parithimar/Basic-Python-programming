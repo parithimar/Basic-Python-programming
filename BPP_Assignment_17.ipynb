{
  "nbformat": 4,
  "nbformat_minor": 0,
  "metadata": {
    "colab": {
      "name": "BPP_Assignment 17.ipynb",
      "provenance": []
    },
    "kernelspec": {
      "name": "python3",
      "display_name": "Python 3"
    },
    "language_info": {
      "name": "python"
    }
  },
  "cells": [
    {
      "cell_type": "markdown",
      "metadata": {
        "id": "cFi3rYmv33oy"
      },
      "source": [
        "##1.Create a function that takes three arguments a, b, c and returns the sum of the numbers that are evenly divided by c from the range a, b inclusive.\n"
      ]
    },
    {
      "cell_type": "code",
      "metadata": {
        "id": "f2EQeBT62-qL",
        "colab": {
          "base_uri": "https://localhost:8080/"
        },
        "outputId": "b8903f5e-4e89-4d99-c9da-a20c740e7e66"
      },
      "source": [
        "def evenly_divisible(a, b, c):\n",
        "  sum = 0\n",
        "  for i in range(a, b+1):\n",
        "    if i % c == 0:\n",
        "      sum += i\n",
        "  return sum\n",
        "evenly_divisible(1, 10, 2)"
      ],
      "execution_count": null,
      "outputs": [
        {
          "output_type": "execute_result",
          "data": {
            "text/plain": [
              "30"
            ]
          },
          "metadata": {
            "tags": []
          },
          "execution_count": 2
        }
      ]
    },
    {
      "cell_type": "markdown",
      "metadata": {
        "id": "RPuScv-w3-uB"
      },
      "source": [
        "##2.Create a function that returns True if a given inequality expression is correct and False otherwise.\n"
      ]
    },
    {
      "cell_type": "code",
      "metadata": {
        "colab": {
          "base_uri": "https://localhost:8080/"
        },
        "id": "d91UWuli4Aym",
        "outputId": "2bc4659a-a687-457d-c0e9-5f5e686b9368"
      },
      "source": [
        "def correct_signs(expr):\n",
        "  \n",
        "  b = False\n",
        "  while True:\n",
        "    if len(expr) == 1:\n",
        "      break\n",
        "    a = expr[0]\n",
        "    c = expr[1]\n",
        "    d = expr[2]\n",
        "    if c == \"<\":\n",
        "      b = a < d\n",
        "    else:\n",
        "      b = a > d\n",
        "    \n",
        "    expr.pop(0)\n",
        "    expr.pop(0)\n",
        "  return b\n",
        "  \n",
        "\n",
        "l = []\n",
        "\n",
        "expr = \"2 < 6 > 4 > 1 < 9 \"\n",
        "expr = expr.strip()\n",
        "if (not expr[0].isdigit()) or  (not expr[-1].isdigit()):\n",
        "  print(\"Wrong Expression\")\n",
        "else:\n",
        "  for i in expr:\n",
        "    if i.isdigit():\n",
        "      l.append(i)\n",
        "    elif i.isdigit():\n",
        "      l.append(i)\n",
        "    elif i == \"<\" or i == \">\":\n",
        "      l.append(i)\n",
        "  print(l)\n",
        "  print(correct_signs(l))"
      ],
      "execution_count": null,
      "outputs": [
        {
          "output_type": "stream",
          "text": [
            "['2', '<', '6', '>', '4', '>', '1', '<', '9']\n",
            "True\n"
          ],
          "name": "stdout"
        }
      ]
    },
    {
      "cell_type": "markdown",
      "metadata": {
        "id": "TF-0NhBJ4rFz"
      },
      "source": [
        "##3.Create a function that replaces all the vowels in a string with a specified character.\n"
      ]
    },
    {
      "cell_type": "code",
      "metadata": {
        "colab": {
          "base_uri": "https://localhost:8080/",
          "height": 36
        },
        "id": "VYt8btMQ4se6",
        "outputId": "d6cc021a-3346-4dcf-b0e8-2cf2e4d522a1"
      },
      "source": [
        "def replace_vowels(st, symbol):\n",
        "  v = \"aAeEiIoOuU\"\n",
        "  s = list(st)\n",
        "  for i in range(len(s)):\n",
        "    if s[i] in v:\n",
        "      s[i] = symbol\n",
        "  return \"\".join(s)\n",
        "replace_vowels(\"minnie mouse\", \"?\")\n"
      ],
      "execution_count": null,
      "outputs": [
        {
          "output_type": "execute_result",
          "data": {
            "application/vnd.google.colaboratory.intrinsic+json": {
              "type": "string"
            },
            "text/plain": [
              "'m?nn?? m??s?'"
            ]
          },
          "metadata": {
            "tags": []
          },
          "execution_count": 1
        }
      ]
    },
    {
      "cell_type": "markdown",
      "metadata": {
        "id": "7vTd4MHL4yNi"
      },
      "source": [
        "##4.Write a function that calculates the factorial of a number recursively."
      ]
    },
    {
      "cell_type": "code",
      "metadata": {
        "id": "oh51vOGK4zuS",
        "colab": {
          "base_uri": "https://localhost:8080/"
        },
        "outputId": "c9fac490-fda9-42d8-f054-7fbf53af986f"
      },
      "source": [
        "def factorial(n):\n",
        "  if n == 1 or n == 0:\n",
        "    return 1\n",
        "  else:\n",
        "    return n * factorial(n-1)\n",
        "\n",
        "n = -9\n",
        "if n < 0:\n",
        "  print(\"Factorial for -ve number doesn't exist\")\n",
        "else:\n",
        "  print(\"Factorial of {} is {}\".format(n, factorial(n)))\n"
      ],
      "execution_count": null,
      "outputs": [
        {
          "output_type": "stream",
          "text": [
            "Factorial for -ve number doesn't exist\n"
          ],
          "name": "stdout"
        }
      ]
    },
    {
      "cell_type": "markdown",
      "metadata": {
        "id": "mvVVSHpu7fJw"
      },
      "source": [
        "##5.Hamming distance is the number of characters that differ between two strings.\n"
      ]
    },
    {
      "cell_type": "code",
      "metadata": {
        "colab": {
          "base_uri": "https://localhost:8080/"
        },
        "id": "zxZWj2zk7gfO",
        "outputId": "1749d312-3e11-4495-9f55-64858613e016"
      },
      "source": [
        "def hamming_distance(st1, st2):\n",
        "  c = 0\n",
        "  for i in range(len(st1)):\n",
        "    if st1[i] != st2[i]:\n",
        "      c += 1\n",
        "  return c\n",
        "\n",
        "st1 = \"Hello\"\n",
        "st2 = \"Hellpo\"\n",
        "if len(st1)!= len(st2):\n",
        "  print(\"Can't perform hamming distance between string of different length\")\n",
        "else:\n",
        "  print(hamming_distance(st1, st2))"
      ],
      "execution_count": null,
      "outputs": [
        {
          "output_type": "stream",
          "text": [
            "Can't perform hamming distance between string of different length\n"
          ],
          "name": "stdout"
        }
      ]
    }
  ]
}