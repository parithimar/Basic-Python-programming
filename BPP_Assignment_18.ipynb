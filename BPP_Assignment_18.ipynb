{
  "nbformat": 4,
  "nbformat_minor": 0,
  "metadata": {
    "colab": {
      "name": "BPP_Assignment 18.ipynb",
      "provenance": []
    },
    "kernelspec": {
      "name": "python3",
      "display_name": "Python 3"
    },
    "language_info": {
      "name": "python"
    }
  },
  "cells": [
    {
      "cell_type": "markdown",
      "metadata": {
        "id": "voXHNt7-ZI2F"
      },
      "source": [
        "##1.Create a function that takes a list of non-negative integers and strings and return a new list without the strings.\n"
      ]
    },
    {
      "cell_type": "code",
      "metadata": {
        "colab": {
          "base_uri": "https://localhost:8080/"
        },
        "id": "WcTEPKQKZDkf",
        "outputId": "0da04e0f-201a-4d28-bda9-5c4746f579ba"
      },
      "source": [
        "def filter_list(st):\n",
        "  i = 0\n",
        "  while i < len(st):\n",
        "    if type(st[i]) is str:\n",
        "      st.pop(i)\n",
        "      continue\n",
        "    i += 1\n",
        "  return st\n",
        "filter_list([1, \"a\", \"b\", 0, \"yu\",\"fg\",\"gg\",15,\"sd\"])"
      ],
      "execution_count": null,
      "outputs": [
        {
          "output_type": "execute_result",
          "data": {
            "text/plain": [
              "[1, 0, 15]"
            ]
          },
          "metadata": {
            "tags": []
          },
          "execution_count": 9
        }
      ]
    },
    {
      "cell_type": "markdown",
      "metadata": {
        "id": "zqhRWQbAa32X"
      },
      "source": [
        "##2.The \"Reverser\" takes a string as input and returns that string in reverse order, with the opposite case.\n"
      ]
    },
    {
      "cell_type": "code",
      "metadata": {
        "colab": {
          "base_uri": "https://localhost:8080/",
          "height": 36
        },
        "id": "k6BEIaF3apVH",
        "outputId": "190d52de-d9ca-4929-ef21-55eed3020f45"
      },
      "source": [
        "def reverse(st):\n",
        "  op = \"\"\n",
        "  for i in range(len(st)-1, -1,-1):\n",
        "   \n",
        "    if st[i].islower():\n",
        "      op += st[i].upper()\n",
        "    else:\n",
        "      op += st[i].lower()\n",
        "  return op\n",
        "reverse(\"hEY\")"
      ],
      "execution_count": null,
      "outputs": [
        {
          "output_type": "execute_result",
          "data": {
            "application/vnd.google.colaboratory.intrinsic+json": {
              "type": "string"
            },
            "text/plain": [
              "'yeH'"
            ]
          },
          "metadata": {
            "tags": []
          },
          "execution_count": 17
        }
      ]
    },
    {
      "cell_type": "markdown",
      "metadata": {
        "id": "VobaW8YFq90e"
      },
      "source": [
        "##3.You can assign variables from lists like this:\n",
        "lst = [1, 2, 3, 4, 5, 6]\n",
        "first = lst[0]\n",
        "middle = lst[1:-1]\n",
        "last = lst[-1]\n",
        "\n",
        "print(first) ➞ outputs 1\n",
        "print(middle) ➞ outputs [2, 3, 4, 5]\n",
        "print(last) ➞ outputs 6\n",
        "With Python 3, you can assign variables from lists in a much more succinct way. Create variables first, middle and last from the given list using destructuring assignment (check the Resources tab for some examples), where:\n",
        "first  ➞ 1\n",
        "\n",
        "middle ➞ [2, 3, 4, 5]\n",
        "\n",
        "last ➞ 6\n",
        "Your task is to unpack the list writeyourcodehere into three variables, being first, middle, and last, with middle being everything in between the first and last element. Then print all three variables.\n"
      ]
    },
    {
      "cell_type": "code",
      "metadata": {
        "id": "GHThn1f9q_UN",
        "colab": {
          "base_uri": "https://localhost:8080/"
        },
        "outputId": "c62397f3-4d09-4ff3-b80d-fb5e36efc097"
      },
      "source": [
        "lst = [1, 2, 3, 4, 5, 6]\n",
        "first, *middle, last = lst\n",
        "print(first)\n",
        "print(middle)\n",
        "print(last)"
      ],
      "execution_count": 1,
      "outputs": [
        {
          "output_type": "stream",
          "text": [
            "1\n",
            "[2, 3, 4, 5]\n",
            "6\n"
          ],
          "name": "stdout"
        }
      ]
    },
    {
      "cell_type": "markdown",
      "metadata": {
        "id": "WQnZc0DPhr9P"
      },
      "source": [
        "##4.Write a function that calculates the factorial of a number recursively.\n"
      ]
    },
    {
      "cell_type": "code",
      "metadata": {
        "id": "MDyi1sNThtNy",
        "colab": {
          "base_uri": "https://localhost:8080/"
        },
        "outputId": "60c8c1cc-de76-42f7-e6ab-63d34597a395"
      },
      "source": [
        "def factorial(n):\n",
        "  if n == 1 or n == 0:\n",
        "    return 1\n",
        "  else:\n",
        "    return n * factorial(n-1)\n",
        "\n",
        "n = -9\n",
        "if n < 0:\n",
        "  print(\"Factorial for -ve number doesn't exist\")\n",
        "else:\n",
        "  print(\"Factorial of {} is {}\".format(n, factorial(n)))\n"
      ],
      "execution_count": null,
      "outputs": [
        {
          "output_type": "stream",
          "text": [
            "Factorial for -ve number doesn't exist\n"
          ],
          "name": "stdout"
        }
      ]
    },
    {
      "cell_type": "markdown",
      "metadata": {
        "id": "--xjnAa7iN3D"
      },
      "source": [
        "##5.Write a function that moves all elements of one type to the end of the list.\n"
      ]
    },
    {
      "cell_type": "code",
      "metadata": {
        "colab": {
          "base_uri": "https://localhost:8080/"
        },
        "id": "kf-NE3LviPZy",
        "outputId": "f2e81686-ab88-4657-a836-c4dea6433b68"
      },
      "source": [
        "def move_to_end(l, val):\n",
        "  i = 0\n",
        "  op = []\n",
        "  while i < len(l):\n",
        "    if l[i] == val:\n",
        "      l.append(l.pop(l.index(val)))\n",
        "      \n",
        "    i += 1\n",
        "  return l\n",
        "move_to_end([\"a\", \"a\", \"a\", \"b\"], \"a\")\n"
      ],
      "execution_count": null,
      "outputs": [
        {
          "output_type": "stream",
          "text": [
            "['a', 'a', 'a', 'b']\n",
            "['a', 'a', 'b', 'a']\n",
            "['a', 'b', 'a', 'a']\n",
            "['b', 'a', 'a', 'a']\n"
          ],
          "name": "stdout"
        },
        {
          "output_type": "execute_result",
          "data": {
            "text/plain": [
              "['b', 'a', 'a', 'a']"
            ]
          },
          "metadata": {
            "tags": []
          },
          "execution_count": 2
        }
      ]
    },
    {
      "cell_type": "code",
      "metadata": {
        "colab": {
          "base_uri": "https://localhost:8080/"
        },
        "id": "hQdbIpQ2gZvV",
        "outputId": "8e8d0fd1-ea4e-44b3-e443-9683cc96cb90"
      },
      "source": [
        "[2,4].pop(0)"
      ],
      "execution_count": null,
      "outputs": [
        {
          "output_type": "execute_result",
          "data": {
            "text/plain": [
              "2"
            ]
          },
          "metadata": {
            "tags": []
          },
          "execution_count": 20
        }
      ]
    }
  ]
}