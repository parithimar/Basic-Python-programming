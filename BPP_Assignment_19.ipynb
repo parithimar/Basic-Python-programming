{
  "nbformat": 4,
  "nbformat_minor": 0,
  "metadata": {
    "colab": {
      "name": "BPP_Assignment 19.ipynb",
      "provenance": []
    },
    "kernelspec": {
      "name": "python3",
      "display_name": "Python 3"
    },
    "language_info": {
      "name": "python"
    }
  },
  "cells": [
    {
      "cell_type": "markdown",
      "metadata": {
        "id": "D1dHKMLermvA"
      },
      "source": [
        "##1.Create a function that takes a string and returns a string in which each character is repeated once."
      ]
    },
    {
      "cell_type": "code",
      "metadata": {
        "colab": {
          "base_uri": "https://localhost:8080/",
          "height": 36
        },
        "id": "_H61IPSTrj74",
        "outputId": "4bc80632-77f4-418a-ee19-a2b348df639e"
      },
      "source": [
        "def double_char(st):\n",
        "  op = \"\"\n",
        "  for i in st:\n",
        "    op += 2 * i\n",
        "  return op\n",
        "double_char(\"Hello World!\")"
      ],
      "execution_count": null,
      "outputs": [
        {
          "output_type": "execute_result",
          "data": {
            "application/vnd.google.colaboratory.intrinsic+json": {
              "type": "string"
            },
            "text/plain": [
              "'HHeelllloo  WWoorrlldd!!'"
            ]
          },
          "metadata": {
            "tags": []
          },
          "execution_count": 2
        }
      ]
    },
    {
      "cell_type": "markdown",
      "metadata": {
        "id": "z4Xm3W9tsEqs"
      },
      "source": [
        "##2.Create a function that reverses a boolean value and returns the string \"boolean expected\" if another variable type is given.\n"
      ]
    },
    {
      "cell_type": "code",
      "metadata": {
        "colab": {
          "base_uri": "https://localhost:8080/",
          "height": 36
        },
        "id": "7gOlfQmwsF9v",
        "outputId": "5393ee9a-98a0-40ad-cdb2-3159d71a9ec3"
      },
      "source": [
        "def reverse(bln):\n",
        "  if type(bln) == bool:\n",
        "    return not bln\n",
        "  else:\n",
        "    return \"boolean expected\"\n",
        "reverse(None)"
      ],
      "execution_count": null,
      "outputs": [
        {
          "output_type": "execute_result",
          "data": {
            "application/vnd.google.colaboratory.intrinsic+json": {
              "type": "string"
            },
            "text/plain": [
              "'boolean expected'"
            ]
          },
          "metadata": {
            "tags": []
          },
          "execution_count": 5
        }
      ]
    },
    {
      "cell_type": "markdown",
      "metadata": {
        "id": "j72f2-1pwdk0"
      },
      "source": [
        "##3.Create a function that returns the thickness (in meters) of a piece of paper after folding it n number of times. The paper starts off with a thickness of 0.5mm."
      ]
    },
    {
      "cell_type": "code",
      "metadata": {
        "colab": {
          "base_uri": "https://localhost:8080/"
        },
        "id": "yk1XQqA6wgmP",
        "outputId": "12c20dfc-3174-4fcc-898a-aa3b882fa86d"
      },
      "source": [
        "def num_layers(n):\n",
        "  a = 0.0005\n",
        "  for i in range(n):\n",
        "    a = a * 2\n",
        "  return a\n",
        "\n",
        "num_layers(21)\n"
      ],
      "execution_count": null,
      "outputs": [
        {
          "output_type": "execute_result",
          "data": {
            "text/plain": [
              "1048.576"
            ]
          },
          "metadata": {
            "tags": []
          },
          "execution_count": 12
        }
      ]
    },
    {
      "cell_type": "markdown",
      "metadata": {
        "id": "ODzCDEug_iEM"
      },
      "source": [
        "##4.Create a function that takes a single string as argument and returns an ordered list containing the indices of all capital letters in the string.\n"
      ]
    },
    {
      "cell_type": "code",
      "metadata": {
        "colab": {
          "base_uri": "https://localhost:8080/"
        },
        "id": "xsmfrzll_kHq",
        "outputId": "969f12cc-71ad-4186-828f-83dc7d2ac2a8"
      },
      "source": [
        "def index_of_caps(st):\n",
        "  l = []\n",
        "  for i, v in enumerate(st):\n",
        "    if v.isupper():\n",
        "      l.append(i)\n",
        "  return l\n",
        "index_of_caps(\"determine\")"
      ],
      "execution_count": null,
      "outputs": [
        {
          "output_type": "execute_result",
          "data": {
            "text/plain": [
              "[]"
            ]
          },
          "metadata": {
            "tags": []
          },
          "execution_count": 15
        }
      ]
    },
    {
      "cell_type": "markdown",
      "metadata": {
        "id": "Wq3JYw8YAHV4"
      },
      "source": [
        "##5.Using list comprehensions, create a function that finds all even numbers from 1 to the given number."
      ]
    },
    {
      "cell_type": "code",
      "metadata": {
        "colab": {
          "base_uri": "https://localhost:8080/"
        },
        "id": "_8ppJGsHAKKe",
        "outputId": "8d2874f5-5cc8-4a6b-808b-754841076ab2"
      },
      "source": [
        "def find_even_nums(n):\n",
        "  return [i for i in range(1, n+1) if i % 2 == 0]\n",
        "find_even_nums(9)"
      ],
      "execution_count": null,
      "outputs": [
        {
          "output_type": "execute_result",
          "data": {
            "text/plain": [
              "[2, 4, 6, 8]"
            ]
          },
          "metadata": {
            "tags": []
          },
          "execution_count": 18
        }
      ]
    }
  ]
}