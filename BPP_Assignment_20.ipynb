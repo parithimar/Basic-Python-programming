{
  "nbformat": 4,
  "nbformat_minor": 0,
  "metadata": {
    "colab": {
      "name": "BPP_Assignment 20.ipynb",
      "provenance": []
    },
    "kernelspec": {
      "name": "python3",
      "display_name": "Python 3"
    },
    "language_info": {
      "name": "python"
    }
  },
  "cells": [
    {
      "cell_type": "markdown",
      "metadata": {
        "id": "JAsEASybLpw4"
      },
      "source": [
        "##1.Create a function that takes a list of strings and integers, and filters out the list so that it returns a list of integers only."
      ]
    },
    {
      "cell_type": "code",
      "metadata": {
        "colab": {
          "base_uri": "https://localhost:8080/"
        },
        "id": "PhskORSdLmTH",
        "outputId": "635c1aea-94dd-4416-d299-57dedf2456b6"
      },
      "source": [
        "def filter_list(l):\n",
        "  return [i for i in l if type(i)==int]\n",
        "filter_list([1, 2, 3, \"a\", \"b\", 4])"
      ],
      "execution_count": null,
      "outputs": [
        {
          "output_type": "execute_result",
          "data": {
            "text/plain": [
              "[1, 2, 3, 4]"
            ]
          },
          "metadata": {
            "tags": []
          },
          "execution_count": 2
        }
      ]
    },
    {
      "cell_type": "markdown",
      "metadata": {
        "id": "LY-dAb3kMOT0"
      },
      "source": [
        "##2.Given a list of numbers, create a function which returns the list but with each element's index in the list added to itself. This means you add 0 to the number at index 0, add 1 to the number at index 1, etc...\n"
      ]
    },
    {
      "cell_type": "code",
      "metadata": {
        "colab": {
          "base_uri": "https://localhost:8080/"
        },
        "id": "rQVa-k7RMQR1",
        "outputId": "8375f30a-d13e-45fa-9d8d-5f5e21ab43d4"
      },
      "source": [
        "def add_indexes(l):\n",
        "  return [v+i for i, v in enumerate(l)]\n",
        "add_indexes([5, 4, 3, 2, 1])"
      ],
      "execution_count": null,
      "outputs": [
        {
          "output_type": "execute_result",
          "data": {
            "text/plain": [
              "[5, 5, 5, 5, 5]"
            ]
          },
          "metadata": {
            "tags": []
          },
          "execution_count": 5
        }
      ]
    },
    {
      "cell_type": "markdown",
      "metadata": {
        "id": "ESohH2PKNCfb"
      },
      "source": [
        "##3.Create a function that takes the height and radius of a cone as arguments and returns the volume of the cone rounded to the nearest hundredth. See the resources tab for the formula."
      ]
    },
    {
      "cell_type": "code",
      "metadata": {
        "colab": {
          "base_uri": "https://localhost:8080/"
        },
        "id": "HRGRETwoND5y",
        "outputId": "b18c994f-d804-4b15-b5a7-1772776e0965"
      },
      "source": [
        "import numpy as np\n",
        "def cone_volume(h, r):\n",
        "  a = (np.pi * r * r * h) / 3\n",
        "  return np.round(a, 2)\n",
        "cone_volume(15, 6)"
      ],
      "execution_count": null,
      "outputs": [
        {
          "output_type": "execute_result",
          "data": {
            "text/plain": [
              "565.49"
            ]
          },
          "metadata": {
            "tags": []
          },
          "execution_count": 8
        }
      ]
    },
    {
      "cell_type": "markdown",
      "metadata": {
        "id": "Qu6TU0FrYkTH"
      },
      "source": [
        "##4.This Triangular Number Sequence is generated from a pattern of dots that form a triangle. The first 5 numbers of the sequence, or dots, are: \n",
        "##1, 3, 6, 10, 15\n",
        "##This means that the first triangle has just one dot, the second one has three dots, the third one has 6 dots and so on.\n",
        "##Write a function that gives the number of dots with its corresponding triangle number of the sequence.\n"
      ]
    },
    {
      "cell_type": "code",
      "metadata": {
        "colab": {
          "base_uri": "https://localhost:8080/"
        },
        "id": "QC4fTX8-YobQ",
        "outputId": "f48fd2d4-ada1-4205-a0f2-ddb685ef5af0"
      },
      "source": [
        "def triangle(n):\n",
        "  a = 0\n",
        "  for i in range(1, n+1):\n",
        "    a += i\n",
        "  return a\n",
        "triangle(5)"
      ],
      "execution_count": 3,
      "outputs": [
        {
          "output_type": "execute_result",
          "data": {
            "text/plain": [
              "15"
            ]
          },
          "metadata": {
            "tags": []
          },
          "execution_count": 3
        }
      ]
    },
    {
      "cell_type": "markdown",
      "metadata": {
        "id": "qMuC-dWJZ0ZI"
      },
      "source": [
        "##5.Create a function that takes a list of numbers between 1 and 10 (excluding one number) and returns the missing number.\n"
      ]
    },
    {
      "cell_type": "code",
      "metadata": {
        "colab": {
          "base_uri": "https://localhost:8080/"
        },
        "id": "73cnX65uZ2kG",
        "outputId": "573d4ae4-23fb-48dc-fbd2-042930c3e59e"
      },
      "source": [
        "def missing_num(l):\n",
        "  for i in range(1,11):\n",
        "    if i not in l:\n",
        "      return i\n",
        "\n",
        "missing_num([7, 2, 3, 6, 5, 9, 1, 4, 8])"
      ],
      "execution_count": null,
      "outputs": [
        {
          "output_type": "execute_result",
          "data": {
            "text/plain": [
              "10"
            ]
          },
          "metadata": {
            "tags": []
          },
          "execution_count": 13
        }
      ]
    }
  ]
}