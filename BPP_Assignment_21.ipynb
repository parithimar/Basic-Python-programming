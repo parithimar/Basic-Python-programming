{
  "nbformat": 4,
  "nbformat_minor": 0,
  "metadata": {
    "colab": {
      "name": "BPP_Assignment 21.ipynb",
      "provenance": []
    },
    "kernelspec": {
      "name": "python3",
      "display_name": "Python 3"
    },
    "language_info": {
      "name": "python"
    }
  },
  "cells": [
    {
      "cell_type": "markdown",
      "metadata": {
        "id": "_L7UDH_OgUh7"
      },
      "source": [
        "##1.Write a function that takes a list and a number as arguments. Add the number to the end of the list, then remove the first element of the list. The function should then return the updated list.\n"
      ]
    },
    {
      "cell_type": "code",
      "metadata": {
        "colab": {
          "base_uri": "https://localhost:8080/",
          "height": 36
        },
        "id": "JUPflbhWgQf_",
        "outputId": "6943f8b0-a1f9-49b4-fcb2-101b8c9b179c"
      },
      "source": [
        "def next_in_line(l, val):\n",
        "  if len(l) == 0:\n",
        "    return \"No list has been selected\"\n",
        "  else:\n",
        "    l.pop(0)\n",
        "    l.append(val)\n",
        "    return l\n",
        "next_in_line([], 10)"
      ],
      "execution_count": null,
      "outputs": [
        {
          "output_type": "execute_result",
          "data": {
            "application/vnd.google.colaboratory.intrinsic+json": {
              "type": "string"
            },
            "text/plain": [
              "'No list has been selected'"
            ]
          },
          "metadata": {
            "tags": []
          },
          "execution_count": 3
        }
      ]
    },
    {
      "cell_type": "markdown",
      "metadata": {
        "id": "Q4rFK65xo0su"
      },
      "source": [
        "##2.Create the function that takes a list of dictionaries and returns the sum of people's budgets.\n"
      ]
    },
    {
      "cell_type": "code",
      "metadata": {
        "colab": {
          "base_uri": "https://localhost:8080/"
        },
        "id": "6qYqF0ulo1yU",
        "outputId": "e70ca93c-69ac-427b-c671-ac9988aebfc8"
      },
      "source": [
        "def get_budgets(dt):\n",
        "  budget = 0\n",
        "  for i in dt:\n",
        "    budget += i[\"budget\"]\n",
        "  return budget\n",
        "get_budgets([\n",
        "  { \"name\": \"John\",  \"age\": 21, \"budget\": 29000 },\n",
        "  { \"name\": \"Steve\",  \"age\": 32, \"budget\": 32000 },\n",
        "  { \"name\": \"Martin\",  \"age\": 16, \"budget\": 1600 }\n",
        "])\n"
      ],
      "execution_count": null,
      "outputs": [
        {
          "output_type": "execute_result",
          "data": {
            "text/plain": [
              "62600"
            ]
          },
          "metadata": {
            "tags": []
          },
          "execution_count": 6
        }
      ]
    },
    {
      "cell_type": "markdown",
      "metadata": {
        "id": "e0QCp1h3pdWy"
      },
      "source": [
        "##3.Create a function that takes a string and returns a string with its letters in alphabetical order.\n"
      ]
    },
    {
      "cell_type": "code",
      "metadata": {
        "colab": {
          "base_uri": "https://localhost:8080/",
          "height": 36
        },
        "id": "7hfEv0JKpftf",
        "outputId": "8ea5d6b9-b5c2-446f-e7fa-ee781a0e9191"
      },
      "source": [
        "def alphabet_soup(st):\n",
        "  st = list(st)\n",
        "  st.sort()\n",
        "  return \"\".join(st)\n",
        "alphabet_soup(\"hacker\")"
      ],
      "execution_count": null,
      "outputs": [
        {
          "output_type": "execute_result",
          "data": {
            "application/vnd.google.colaboratory.intrinsic+json": {
              "type": "string"
            },
            "text/plain": [
              "'acehkr'"
            ]
          },
          "metadata": {
            "tags": []
          },
          "execution_count": 8
        }
      ]
    },
    {
      "cell_type": "markdown",
      "metadata": {
        "id": "hhX6VyFx5R9n"
      },
      "source": [
        "##5.Write a function that takes a list of elements and returns only the integers.\n"
      ]
    },
    {
      "cell_type": "code",
      "metadata": {
        "colab": {
          "base_uri": "https://localhost:8080/"
        },
        "id": "4VpFXIxC5T0e",
        "outputId": "8f0273e8-a239-4d3c-fd18-d7c15c002f21"
      },
      "source": [
        "def return_only_integer(l):\n",
        "  i = 0\n",
        "  while i < len(l):\n",
        "    if type(l[i]) != int:\n",
        "      l.pop(i)\n",
        "      continue\n",
        "    i += 1\n",
        "  return l\n",
        "return_only_integer([10, \"121\", 56, 20, \"car\", 3, \"lion\"])"
      ],
      "execution_count": null,
      "outputs": [
        {
          "output_type": "execute_result",
          "data": {
            "text/plain": [
              "[10, 56, 20, 3]"
            ]
          },
          "metadata": {
            "tags": []
          },
          "execution_count": 9
        }
      ]
    }
  ]
}