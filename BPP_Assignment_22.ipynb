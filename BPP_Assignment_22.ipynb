{
  "nbformat": 4,
  "nbformat_minor": 0,
  "metadata": {
    "colab": {
      "name": "BPP_Assignment 22.ipynb",
      "provenance": [],
      "collapsed_sections": []
    },
    "kernelspec": {
      "name": "python3",
      "display_name": "Python 3"
    },
    "language_info": {
      "name": "python"
    }
  },
  "cells": [
    {
      "cell_type": "markdown",
      "metadata": {
        "id": "Ds2jTOwkH4SB"
      },
      "source": [
        "##1.Create a function that takes three parameters where:\n",
        "##x is the start of the range (inclusive).\n",
        "##y is the end of the range (inclusive).\n",
        "##n is the divisor to be checked against.\n",
        "##Return an ordered list with numbers in the range that are divisible by the third parameter n. Return an empty list if there are no numbers that are divisible by n."
      ]
    },
    {
      "cell_type": "code",
      "metadata": {
        "colab": {
          "base_uri": "https://localhost:8080/"
        },
        "id": "9eQnWZ7sHst8",
        "outputId": "c9a33872-e567-44ba-e4b5-1c0a14fe807a"
      },
      "source": [
        "def list_operation(s, e, st):\n",
        "  op = []\n",
        "  for i in range(s, e+1):\n",
        "    if i % st == 0:\n",
        "      op.append(i)\n",
        "  return op\n",
        "\n",
        "list_operation(7, 9, 2)\n"
      ],
      "execution_count": null,
      "outputs": [
        {
          "output_type": "execute_result",
          "data": {
            "text/plain": [
              "[8]"
            ]
          },
          "metadata": {
            "tags": []
          },
          "execution_count": 1
        }
      ]
    },
    {
      "cell_type": "markdown",
      "metadata": {
        "id": "pKAd6TZ4IoaQ"
      },
      "source": [
        "##2.Create a function that takes in two lists and returns True if the second list follows the first list by one element, and False otherwise. In other words, determine if the second list is the first list shifted to the right by 1."
      ]
    },
    {
      "cell_type": "code",
      "metadata": {
        "colab": {
          "base_uri": "https://localhost:8080/"
        },
        "id": "cXvNJK_7IqVo",
        "outputId": "06fa805b-455c-475a-f51a-79cdc978faef"
      },
      "source": [
        "def simon_says(l1, l2):\n",
        "  f = False\n",
        "  for i in range(len(l1) - 1):\n",
        "    if l1[i] == l2[i + 1]:\n",
        "      f = True\n",
        "    else:\n",
        "      break\n",
        "  return f\n",
        "simon_says([1, 2, 3, 4, 5], [5, 5, 1, 2, 4])"
      ],
      "execution_count": null,
      "outputs": [
        {
          "output_type": "execute_result",
          "data": {
            "text/plain": [
              "False"
            ]
          },
          "metadata": {
            "tags": []
          },
          "execution_count": 8
        }
      ]
    },
    {
      "cell_type": "markdown",
      "metadata": {
        "id": "AdjTp4HsLHFA"
      },
      "source": [
        "##3.A group of friends have decided to start a secret society. The name will be the first letter of each of their names, sorted in alphabetical order.\n",
        "##Create a function that takes in a list of names and returns the name of the secret society.\n"
      ]
    },
    {
      "cell_type": "code",
      "metadata": {
        "colab": {
          "base_uri": "https://localhost:8080/",
          "height": 36
        },
        "id": "FbwtTAvxLJTl",
        "outputId": "8644d2d4-710a-48cc-9e4b-2e6a7509e54d"
      },
      "source": [
        "def society_name(l):\n",
        "  op = \"\"\n",
        "  l.sort()\n",
        "  for i in l:\n",
        "    op += i[0]\n",
        "  return op\n",
        "society_name([\"Adam\", \"Sarah\", \"Malcolm\"]) "
      ],
      "execution_count": null,
      "outputs": [
        {
          "output_type": "execute_result",
          "data": {
            "application/vnd.google.colaboratory.intrinsic+json": {
              "type": "string"
            },
            "text/plain": [
              "'AMS'"
            ]
          },
          "metadata": {
            "tags": []
          },
          "execution_count": 10
        }
      ]
    },
    {
      "cell_type": "markdown",
      "metadata": {
        "id": "ksHi27hHPbyM"
      },
      "source": [
        "##4.An isogram is a word that has no duplicate letters. Create a function that takes a string and returns either True or False depending on whether or not it's an \"isogram\".\n"
      ]
    },
    {
      "cell_type": "code",
      "metadata": {
        "colab": {
          "base_uri": "https://localhost:8080/"
        },
        "id": "YZ9BP7-sPdSd",
        "outputId": "19a91e46-f860-46cc-f557-b345a6aee274"
      },
      "source": [
        "def is_isogram(st):\n",
        "  d = {}\n",
        "  st = st.lower()\n",
        "  for i in st:\n",
        "    if i in d.keys():\n",
        "      d[i] += d[i] + 1\n",
        "    else:\n",
        "      d[i] = 1\n",
        "  if sum(d.values()) == len(st):\n",
        "    return True\n",
        "  else:\n",
        "    return False\n",
        "is_isogram(\"Consecutive\") "
      ],
      "execution_count": null,
      "outputs": [
        {
          "output_type": "execute_result",
          "data": {
            "text/plain": [
              "False"
            ]
          },
          "metadata": {
            "tags": []
          },
          "execution_count": 21
        }
      ]
    },
    {
      "cell_type": "markdown",
      "metadata": {
        "id": "ArS5_vp9Qlge"
      },
      "source": [
        "##5.Create a function that takes a string and returns True or False, depending on whether the characters are in order or not."
      ]
    },
    {
      "cell_type": "code",
      "metadata": {
        "colab": {
          "base_uri": "https://localhost:8080/"
        },
        "id": "LcjKDqaJQEOG",
        "outputId": "0178d1ef-fa3d-4e53-b341-c0b66ae66fbf"
      },
      "source": [
        "def is_in_order(st):\n",
        "  f = False\n",
        "  \n",
        "  for i in range(len(st) - 1):\n",
        "    if ord(st[i]) <= ord(st[i+1]):\n",
        "      f = True\n",
        "    else:\n",
        "      f = False\n",
        "      break\n",
        "  return f\n",
        "is_in_order(\"123\")"
      ],
      "execution_count": null,
      "outputs": [
        {
          "output_type": "execute_result",
          "data": {
            "text/plain": [
              "True"
            ]
          },
          "metadata": {
            "tags": []
          },
          "execution_count": 25
        }
      ]
    }
  ]
}