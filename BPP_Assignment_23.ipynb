{
  "nbformat": 4,
  "nbformat_minor": 0,
  "metadata": {
    "colab": {
      "name": "BPP_Assignment 23.ipynb",
      "provenance": []
    },
    "kernelspec": {
      "name": "python3",
      "display_name": "Python 3"
    },
    "language_info": {
      "name": "python"
    }
  },
  "cells": [
    {
      "cell_type": "markdown",
      "metadata": {
        "id": "m583dSN1YH7-"
      },
      "source": [
        "##1.Create a function that takes a number as an argument and returns True or False depending on whether the number is symmetrical or not. A number is symmetrical when it is the same as its reverse."
      ]
    },
    {
      "cell_type": "code",
      "metadata": {
        "id": "Qzlk1UjQYAcp"
      },
      "source": [
        "def is_symmetrical(n):\n",
        "  if str(n) == str(n)[::-1]:\n",
        "    return True\n",
        "  else:\n",
        "    False\n",
        "is_symmetrical(9939)"
      ],
      "execution_count": null,
      "outputs": []
    },
    {
      "cell_type": "markdown",
      "metadata": {
        "id": "yRv7rVO-Ytbn"
      },
      "source": [
        "##2.Given a string of numbers separated by a comma and space, return the product of the numbers."
      ]
    },
    {
      "cell_type": "code",
      "metadata": {
        "colab": {
          "base_uri": "https://localhost:8080/"
        },
        "id": "yPZP2ElTYug8",
        "outputId": "f555ae93-20a2-43e7-89c4-4da4559b72c7"
      },
      "source": [
        "def multiply_nums(st):\n",
        "  mul = 1\n",
        "  for i in st.split(\",\"):\n",
        "    mul *= int(i.strip())\n",
        "  return mul\n",
        "multiply_nums(\"1, 2, 3, 4\")"
      ],
      "execution_count": null,
      "outputs": [
        {
          "output_type": "execute_result",
          "data": {
            "text/plain": [
              "24"
            ]
          },
          "metadata": {
            "tags": []
          },
          "execution_count": 2
        }
      ]
    },
    {
      "cell_type": "markdown",
      "metadata": {
        "id": "fC-oMgXMagwO"
      },
      "source": [
        "##3.Create a function that squares every digit of a number."
      ]
    },
    {
      "cell_type": "code",
      "metadata": {
        "colab": {
          "base_uri": "https://localhost:8080/"
        },
        "id": "b7u7bhPsah9s",
        "outputId": "7f38f431-279e-42fa-e179-cb457c56ff56"
      },
      "source": [
        "def square_digits(n):\n",
        "  op = ''\n",
        "  for i in str(n):\n",
        "    a = int(i) * int(i)\n",
        "    op += str(a)\n",
        "  return int(op)\n",
        "\n",
        "square_digits(22)\n"
      ],
      "execution_count": null,
      "outputs": [
        {
          "output_type": "execute_result",
          "data": {
            "text/plain": [
              "44"
            ]
          },
          "metadata": {
            "tags": []
          },
          "execution_count": 4
        }
      ]
    },
    {
      "cell_type": "markdown",
      "metadata": {
        "id": "p2t5UbAKcO2j"
      },
      "source": [
        "##4.Create a function that sorts a list and removes all duplicate items from it.\n"
      ]
    },
    {
      "cell_type": "code",
      "metadata": {
        "colab": {
          "base_uri": "https://localhost:8080/"
        },
        "id": "ZbnNCOwzcQXk",
        "outputId": "2c541252-1e65-4158-e2ef-17cd0eea366b"
      },
      "source": [
        "def setify(l):\n",
        "  l.sort()\n",
        "  a= set(l)\n",
        "  return a\n",
        "setify([3, 3, 3, 2, 1])"
      ],
      "execution_count": null,
      "outputs": [
        {
          "output_type": "execute_result",
          "data": {
            "text/plain": [
              "{1, 2, 3}"
            ]
          },
          "metadata": {
            "tags": []
          },
          "execution_count": 7
        }
      ]
    },
    {
      "cell_type": "markdown",
      "metadata": {
        "id": "oPyaXueqsLfa"
      },
      "source": [
        "##5.Create a function that returns the mean of all digits."
      ]
    },
    {
      "cell_type": "code",
      "metadata": {
        "colab": {
          "base_uri": "https://localhost:8080/"
        },
        "id": "QzuLoEqWsM1L",
        "outputId": "ed8f283e-0824-4428-bdda-972d3f351ef4"
      },
      "source": [
        "def mean(n):\n",
        "  avg = 0\n",
        "  for i in str(n):\n",
        "    avg += int(i)\n",
        "  avg /= len(str(n))\n",
        "  return avg\n",
        "mean(666)"
      ],
      "execution_count": null,
      "outputs": [
        {
          "output_type": "execute_result",
          "data": {
            "text/plain": [
              "6.0"
            ]
          },
          "metadata": {
            "tags": []
          },
          "execution_count": 11
        }
      ]
    }
  ]
}