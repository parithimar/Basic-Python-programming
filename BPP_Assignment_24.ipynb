{
  "nbformat": 4,
  "nbformat_minor": 0,
  "metadata": {
    "colab": {
      "name": "BPP_Assignment 24.ipynb",
      "provenance": []
    },
    "kernelspec": {
      "name": "python3",
      "display_name": "Python 3"
    },
    "language_info": {
      "name": "python"
    }
  },
  "cells": [
    {
      "cell_type": "markdown",
      "metadata": {
        "id": "KSbBEq0yGpd0"
      },
      "source": [
        "##1.Create a function that takes an integer and returns a list from 1 to the given number, where:\n",
        "##If the number can be divided evenly by 4, amplify it by 10 (i.e. return 10 times the number).\n",
        "##If the number cannot be divided evenly by 4, simply return the number."
      ]
    },
    {
      "cell_type": "code",
      "metadata": {
        "colab": {
          "base_uri": "https://localhost:8080/"
        },
        "id": "PauEZ77_FBXo",
        "outputId": "6b73db69-99e1-4c91-8cfe-42503bdcd3be"
      },
      "source": [
        "def amplify(n):\n",
        "  return [i *10 if i % 4 == 0 else i for i in range(1, n+1)]\n",
        "amplify(25)"
      ],
      "execution_count": null,
      "outputs": [
        {
          "output_type": "execute_result",
          "data": {
            "text/plain": [
              "[1,\n",
              " 2,\n",
              " 3,\n",
              " 40,\n",
              " 5,\n",
              " 6,\n",
              " 7,\n",
              " 80,\n",
              " 9,\n",
              " 10,\n",
              " 11,\n",
              " 120,\n",
              " 13,\n",
              " 14,\n",
              " 15,\n",
              " 160,\n",
              " 17,\n",
              " 18,\n",
              " 19,\n",
              " 200,\n",
              " 21,\n",
              " 22,\n",
              " 23,\n",
              " 240,\n",
              " 25]"
            ]
          },
          "metadata": {
            "tags": []
          },
          "execution_count": 4
        }
      ]
    },
    {
      "cell_type": "markdown",
      "metadata": {
        "id": "tzvbGneoOzwr"
      },
      "source": [
        "##2.Create a function that takes a list of numbers and return the number that's unique.\n"
      ]
    },
    {
      "cell_type": "code",
      "metadata": {
        "colab": {
          "base_uri": "https://localhost:8080/"
        },
        "id": "kdvG0MSjO0-a",
        "outputId": "66d64954-f2a6-426d-bfe1-a83b198d8855"
      },
      "source": [
        "def unique(l):\n",
        "  d = {}\n",
        "  for i in l:\n",
        "    if i in d:\n",
        "      d[i] = d[i] + 1\n",
        "    else:\n",
        "      d[i] = 1\n",
        "  for i,v in d.items():\n",
        "    if v == 1:\n",
        "      return i\n",
        "unique([0, 0, 0.77, 0, 0])"
      ],
      "execution_count": null,
      "outputs": [
        {
          "output_type": "execute_result",
          "data": {
            "text/plain": [
              "0.77"
            ]
          },
          "metadata": {
            "tags": []
          },
          "execution_count": 3
        }
      ]
    },
    {
      "cell_type": "markdown",
      "metadata": {
        "id": "kIHZTN4RY1NM"
      },
      "source": [
        "##3.Your task is to create a Circle constructor that creates a circle with a radius provided by an argument. The circles constructed must have two getters getArea() (PIr^2) and getPerimeter() (2PI*r) which give both respective areas and perimeter (circumference)."
      ]
    },
    {
      "cell_type": "code",
      "metadata": {
        "colab": {
          "base_uri": "https://localhost:8080/"
        },
        "id": "8EcxO_TGY231",
        "outputId": "6b452f45-9fb0-4d20-d784-3f2e1c800579"
      },
      "source": [
        "import numpy as np\n",
        "\n",
        "class Circle:\n",
        "  def __init__(self, r):\n",
        "    self.r = r\n",
        "  def getArea(self):\n",
        "    return np.round(np.pi * self.r ** 2, 2)\n",
        "  \n",
        "  def getPerimeter(self):\n",
        "    return np.round(2 * np.pi *self.r, 2)\n",
        "\n",
        "c = Circle(11)\n",
        "print(c.getArea())\n",
        "print(c.getPerimeter())\n"
      ],
      "execution_count": null,
      "outputs": [
        {
          "output_type": "stream",
          "text": [
            "380.13\n",
            "69.12\n"
          ],
          "name": "stdout"
        }
      ]
    },
    {
      "cell_type": "markdown",
      "metadata": {
        "id": "Vwd_LCYUL8PA"
      },
      "source": [
        "##4.Create a function that takes a list of strings and return a list, sorted from shortest to longest.\n"
      ]
    },
    {
      "cell_type": "code",
      "metadata": {
        "colab": {
          "base_uri": "https://localhost:8080/"
        },
        "id": "D_SonuCtL92z",
        "outputId": "6f3ddfc6-42f0-427d-f172-3dd1e3a8ff98"
      },
      "source": [
        "def sort_by_length(l):\n",
        "  for i  in range(len(l)):\n",
        "    for j in range(len(l)-i-1):\n",
        "      if len(l[j]) >= len(l[j+1]):\n",
        "        l[j], l[j+1] = l[j+1], l[j]\n",
        "  return l\n",
        "\n",
        "sort_by_length([\"Turing\", \"Einstein\", \"Jung\"])"
      ],
      "execution_count": null,
      "outputs": [
        {
          "output_type": "execute_result",
          "data": {
            "text/plain": [
              "['Jung', 'Turing', 'Einstein']"
            ]
          },
          "metadata": {
            "tags": []
          },
          "execution_count": 3
        }
      ]
    },
    {
      "cell_type": "markdown",
      "metadata": {
        "id": "Evuq1ZtsM7mI"
      },
      "source": [
        "##5.Create a function that validates whether three given integers form a Pythagorean triplet. The sum of the squares of the two smallest integers must equal the square of the largest number to be validated.\n"
      ]
    },
    {
      "cell_type": "code",
      "metadata": {
        "colab": {
          "base_uri": "https://localhost:8080/"
        },
        "id": "ZcalV3VqM9Nu",
        "outputId": "c371afb8-c225-4463-bfef-ce053e593e07"
      },
      "source": [
        "def is_triplet(a, b, c):\n",
        "  l = [a,b,c]\n",
        "  m1 = min(l)\n",
        "  l.pop(l.index(m1))\n",
        "  m2 = min(l)\n",
        "  l.pop(l.index(m2))\n",
        "  d = m1**2 + m2**2\n",
        "  e = l[0]**2\n",
        "  if d == e:\n",
        "    return True\n",
        "  else:\n",
        "    return False\n",
        "\n",
        "is_triplet(13, 5, 12)"
      ],
      "execution_count": null,
      "outputs": [
        {
          "output_type": "execute_result",
          "data": {
            "text/plain": [
              "True"
            ]
          },
          "metadata": {
            "tags": []
          },
          "execution_count": 7
        }
      ]
    }
  ]
}