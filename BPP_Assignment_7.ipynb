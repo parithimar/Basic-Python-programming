{
  "nbformat": 4,
  "nbformat_minor": 0,
  "metadata": {
    "colab": {
      "name": "BPP_Assignment 7.ipynb",
      "provenance": []
    },
    "kernelspec": {
      "name": "python3",
      "display_name": "Python 3"
    },
    "language_info": {
      "name": "python"
    }
  },
  "cells": [
    {
      "cell_type": "markdown",
      "metadata": {
        "id": "vHin-slOWhWc"
      },
      "source": [
        "##1.Write a Python Program to find sum of array?"
      ]
    },
    {
      "cell_type": "code",
      "metadata": {
        "colab": {
          "base_uri": "https://localhost:8080/"
        },
        "id": "G-Z939ZhVo5G",
        "outputId": "d1ea99ba-97d8-4c48-e0e3-39bb39465df6"
      },
      "source": [
        "arr = [2,3,4,5,6,1]\n",
        "sum = 0\n",
        "for i  in arr:\n",
        "  sum += i\n",
        "print(sum)"
      ],
      "execution_count": null,
      "outputs": [
        {
          "output_type": "stream",
          "text": [
            "21\n"
          ],
          "name": "stdout"
        }
      ]
    },
    {
      "cell_type": "markdown",
      "metadata": {
        "id": "sS0GsClOW0is"
      },
      "source": [
        "##2.Write a Python Program to find largest element in an array?\n"
      ]
    },
    {
      "cell_type": "code",
      "metadata": {
        "colab": {
          "base_uri": "https://localhost:8080/"
        },
        "id": "W97s6uLDW4cq",
        "outputId": "9a23b36c-c2b6-44f6-fe29-3a3f1a28edf0"
      },
      "source": [
        "arr = [2,3,4,5,6,1]\n",
        "largest = arr[0]\n",
        "for i in arr:\n",
        "  if i > largest:\n",
        "    largest = i\n",
        "print(\"The largest element in the array is  \",largest)"
      ],
      "execution_count": null,
      "outputs": [
        {
          "output_type": "stream",
          "text": [
            "The largest element in the array is   6\n"
          ],
          "name": "stdout"
        }
      ]
    },
    {
      "cell_type": "markdown",
      "metadata": {
        "id": "kdZ9RknqW2Ts"
      },
      "source": [
        "##3.Write a Python Program for array rotation?\n"
      ]
    },
    {
      "cell_type": "code",
      "metadata": {
        "colab": {
          "base_uri": "https://localhost:8080/"
        },
        "id": "S4BUksaCXWGm",
        "outputId": "16a57cab-3098-4200-c8f6-eb98b53f9083"
      },
      "source": [
        "arr = [1, 2, 3, 4, 5];      \n",
        "n = 3;      \n",
        "print(\"Original array: \");    \n",
        "for i in arr:    \n",
        "    print(i),     \n",
        "   \n",
        "for i in range(0, n):    \n",
        "    first = arr[0];           \n",
        "    for j in range(0, len(arr)-1):    \n",
        "        arr[j] = arr[j+1];    \n",
        "    arr[len(arr)-1] = first;    \n",
        "     \n",
        "print(\"Array after rotation: \");    \n",
        "for i in arr:    \n",
        "    print(i),"
      ],
      "execution_count": 3,
      "outputs": [
        {
          "output_type": "stream",
          "text": [
            "Original array: \n",
            "1\n",
            "2\n",
            "3\n",
            "4\n",
            "5\n",
            "Array after rotation: \n",
            "4\n",
            "5\n",
            "1\n",
            "2\n",
            "3\n"
          ],
          "name": "stdout"
        }
      ]
    },
    {
      "cell_type": "markdown",
      "metadata": {
        "id": "Yk0l-24enCxO"
      },
      "source": [
        "##4.Write a Python Program to Split the array and add the first part to the end?"
      ]
    },
    {
      "cell_type": "code",
      "metadata": {
        "colab": {
          "base_uri": "https://localhost:8080/"
        },
        "id": "6qjOhnI9hVBd",
        "outputId": "f2a38002-d23b-4a04-ce06-4f37574d8b70"
      },
      "source": [
        "arr = [12, 10, 5, 6, 52, 36]\n",
        "n = len(arr)\n",
        "pos = 2\n",
        "for i in range(0, pos):\n",
        "  x = arr[0]\n",
        "  for j in range(0, n-1):\n",
        "    arr[j] = arr[j + 1]  \n",
        "  arr[n-1] = x\n",
        "  \n",
        "for i in arr:\n",
        "\tprint(i)\n",
        "\n"
      ],
      "execution_count": 11,
      "outputs": [
        {
          "output_type": "stream",
          "text": [
            "5\n",
            "6\n",
            "52\n",
            "36\n",
            "12\n",
            "10\n"
          ],
          "name": "stdout"
        }
      ]
    },
    {
      "cell_type": "markdown",
      "metadata": {
        "id": "brCZh3wLYox7"
      },
      "source": [
        "##5.Write a Python Program to check if given array is Monotonic?"
      ]
    },
    {
      "cell_type": "code",
      "metadata": {
        "colab": {
          "base_uri": "https://localhost:8080/"
        },
        "id": "2i8LMNV9YqZB",
        "outputId": "45a45a4f-081c-4aee-e797-1d17e73e1987"
      },
      "source": [
        "arr = [5,6,2,1]\n",
        "asc = 1\n",
        "dsc = 1\n",
        "for i in range(len(arr) - 1):\n",
        "  if arr[i] < arr[i+1]:\n",
        "    asc = 1\n",
        "  else:\n",
        "    asc = 0\n",
        "    break\n",
        "\n",
        "for i in range(len(arr) -1):\n",
        "  if arr[i] > arr[i+1]:\n",
        "    dsc = 1\n",
        "  else:\n",
        "    dsc = 0\n",
        "    break\n",
        "    \n",
        "if asc or dsc:\n",
        "  print('Array is monotonic')\n",
        "else:\n",
        "  print(\"Array is not monotonic\")"
      ],
      "execution_count": 10,
      "outputs": [
        {
          "output_type": "stream",
          "text": [
            "Array is not monotonic\n"
          ],
          "name": "stdout"
        }
      ]
    }
  ]
}