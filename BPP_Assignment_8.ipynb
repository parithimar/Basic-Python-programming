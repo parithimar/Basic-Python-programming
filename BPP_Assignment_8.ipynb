{
  "nbformat": 4,
  "nbformat_minor": 0,
  "metadata": {
    "colab": {
      "name": "BPP_Assignment 8.ipynb",
      "provenance": []
    },
    "kernelspec": {
      "name": "python3",
      "display_name": "Python 3"
    },
    "language_info": {
      "name": "python"
    }
  },
  "cells": [
    {
      "cell_type": "markdown",
      "metadata": {
        "id": "ydKALHpwuiaj"
      },
      "source": [
        "##1.Write a Python Program to Add Two Matrices?"
      ]
    },
    {
      "cell_type": "code",
      "metadata": {
        "colab": {
          "base_uri": "https://localhost:8080/"
        },
        "id": "o7NUsXVhugqu",
        "outputId": "8d9542b5-462a-4f24-9c46-3a1be659a0b3"
      },
      "source": [
        "m1 = [[1,2,3],[4,5,6]]\n",
        "m2 = [[5,6,7],[1,2,3]]\n",
        "r = [[0,0,0],[0,0,0]]\n",
        "if (len(m1[0]) == len(m2[0])) and (len(m1) == len(m2)):\n",
        "  for i in range(len(m1)):\n",
        "    for j in range(len(m1[0])):\n",
        "        r[i][j] = m1[i][j] + m2[i][j]\n",
        "  for i in r:\n",
        "    print(i)\n",
        "else:\n",
        "  print(\"Matrices have different dimensions.\")"
      ],
      "execution_count": null,
      "outputs": [
        {
          "output_type": "stream",
          "text": [
            "[6, 8, 10]\n",
            "[5, 7, 9]\n"
          ],
          "name": "stdout"
        }
      ]
    },
    {
      "cell_type": "markdown",
      "metadata": {
        "id": "39Nmwy1sxaJP"
      },
      "source": [
        "##2.Write a Python Program to Multiply Two Matrices?"
      ]
    },
    {
      "cell_type": "code",
      "metadata": {
        "colab": {
          "base_uri": "https://localhost:8080/"
        },
        "id": "8ZKdScimxbmz",
        "outputId": "bc1ce7b9-bfe6-468f-a3b5-fe8b7ac8f275"
      },
      "source": [
        "m1 = [[1,2,3],[4,5,6]]\n",
        "m2 = [[5,6,7],[1,2,3],[1,2,3]]\n",
        "r = [[0,0,0],[0,0,0]]\n",
        "if len(m1[0]) == len(m2):\n",
        "  for i in range(len(m1)):\n",
        "    for j in range(len(m2[0])):\n",
        "        for k in range(len(m2)):\n",
        "            r[i][j] += m1[i][k] * m2[k][j]\n",
        "  for i in r:\n",
        "    print(i)\n",
        "else:\n",
        "  print(\"Matrices have different dimensions.\")"
      ],
      "execution_count": null,
      "outputs": [
        {
          "output_type": "stream",
          "text": [
            "[10, 16, 22]\n",
            "[31, 46, 61]\n"
          ],
          "name": "stdout"
        }
      ]
    },
    {
      "cell_type": "markdown",
      "metadata": {
        "id": "nrYpmvAe0u9W"
      },
      "source": [
        "##3.Write a Python Program to Transpose a Matrix?\n"
      ]
    },
    {
      "cell_type": "code",
      "metadata": {
        "colab": {
          "base_uri": "https://localhost:8080/"
        },
        "id": "KTgrX2cs0wdx",
        "outputId": "c54465e1-0309-41b7-b7df-2a517173a295"
      },
      "source": [
        "m = [[1,2,3],[4,5,6]]\n",
        "r = [[0,0],[0,0],[0,0]]\n",
        "for i in range(len(m)):\n",
        "  for j in range(len(m[0])):\n",
        "    r[j][i] = m[i][j]\n",
        "for i in r:\n",
        "  print(i)"
      ],
      "execution_count": null,
      "outputs": [
        {
          "output_type": "stream",
          "text": [
            "[1, 4]\n",
            "[2, 5]\n",
            "[3, 6]\n"
          ],
          "name": "stdout"
        }
      ]
    },
    {
      "cell_type": "markdown",
      "metadata": {
        "id": "fD9RaZGr5nIU"
      },
      "source": [
        "##4.Write a Python Program to Sort Words in Alphabetic Order?\n"
      ]
    },
    {
      "cell_type": "code",
      "metadata": {
        "colab": {
          "base_uri": "https://localhost:8080/"
        },
        "id": "kRM536dV6auw",
        "outputId": "97b8befa-8a55-4690-a787-ff361bdbb586"
      },
      "source": [
        "s = \"My name is Bijoy and i'm a student of iNeuron\"\n",
        "s = s.split()\n",
        "s.sort()\n",
        "print(s)\n"
      ],
      "execution_count": null,
      "outputs": [
        {
          "output_type": "stream",
          "text": [
            "['Bijoy', 'My', 'a', 'and', \"i'm\", 'iNeuron', 'is', 'name', 'of', 'student']\n"
          ],
          "name": "stdout"
        },
        {
          "output_type": "execute_result",
          "data": {
            "text/plain": [
              "False"
            ]
          },
          "metadata": {
            "tags": []
          },
          "execution_count": 21
        }
      ]
    },
    {
      "cell_type": "markdown",
      "metadata": {
        "id": "_AiruFAx8WPh"
      },
      "source": [
        "##5.Write a Python Program to Remove Punctuation From a String?\n"
      ]
    },
    {
      "cell_type": "code",
      "metadata": {
        "colab": {
          "base_uri": "https://localhost:8080/"
        },
        "id": "1u-NbVnU8OHs",
        "outputId": "fc0d04b7-7308-4ab0-9707-836e42be4dce"
      },
      "source": [
        "s = \"Hi!!, how are you.....?\"\n",
        "r = \"\"\n",
        "for i in s:\n",
        "  if ord(i) in range(65,91) or ord(i) in range(97,123) or ord(i) == 32:\n",
        "    r +=i\n",
        "print(r)"
      ],
      "execution_count": null,
      "outputs": [
        {
          "output_type": "stream",
          "text": [
            "Hi how are you\n"
          ],
          "name": "stdout"
        }
      ]
    },
    {
      "cell_type": "code",
      "metadata": {
        "id": "RLWXH9f_9gom",
        "colab": {
          "base_uri": "https://localhost:8080/"
        },
        "outputId": "080061bc-d959-45b0-b9a0-ce4f7c6d6acd"
      },
      "source": [
        ""
      ],
      "execution_count": null,
      "outputs": [
        {
          "output_type": "execute_result",
          "data": {
            "text/plain": [
              "32"
            ]
          },
          "metadata": {
            "tags": []
          },
          "execution_count": 25
        }
      ]
    }
  ]
}